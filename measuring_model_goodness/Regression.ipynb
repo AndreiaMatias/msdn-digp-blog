{
 "cells": [
  {
   "cell_type": "code",
   "execution_count": 30,
   "metadata": {},
   "outputs": [],
   "source": [
    "import math\n",
    "import numpy as np\n",
    "import pandas as pd\n",
    "from tqdm import tqdm\n",
    "\n",
    "from sklearn.datasets import load_boston\n",
    "from sklearn.model_selection import train_test_split\n",
    "from sklearn.pipeline import Pipeline\n",
    "from sklearn.model_selection import GridSearchCV\n",
    "from sklearn.preprocessing import StandardScaler\n",
    "from sklearn.decomposition import PCA\n",
    "from sklearn.linear_model import Ridge\n",
    "\n",
    "import matplotlib.pyplot as plt\n",
    "import seaborn as sns\n",
    "sns.set(style='whitegrid')\n",
    "sns.set_palette(\"bright\")\n",
    "%matplotlib inline\n",
    "%config InlineBackend.figure_format = 'retina'"
   ]
  },
  {
   "cell_type": "markdown",
   "metadata": {},
   "source": [
    "# Load Data"
   ]
  },
  {
   "cell_type": "code",
   "execution_count": 2,
   "metadata": {},
   "outputs": [
    {
     "name": "stdout",
     "output_type": "stream",
     "text": [
      "Boston House Prices dataset\n",
      "===========================\n",
      "\n",
      "Notes\n",
      "------\n",
      "Data Set Characteristics:  \n",
      "\n",
      "    :Number of Instances: 506 \n",
      "\n",
      "    :Number of Attributes: 13 numeric/categorical predictive\n",
      "    \n",
      "    :Median Value (attribute 14) is usually the target\n",
      "\n",
      "    :Attribute Information (in order):\n",
      "        - CRIM     per capita crime rate by town\n",
      "        - ZN       proportion of residential land zoned for lots over 25,000 sq.ft.\n",
      "        - INDUS    proportion of non-retail business acres per town\n",
      "        - CHAS     Charles River dummy variable (= 1 if tract bounds river; 0 otherwise)\n",
      "        - NOX      nitric oxides concentration (parts per 10 million)\n",
      "        - RM       average number of rooms per dwelling\n",
      "        - AGE      proportion of owner-occupied units built prior to 1940\n",
      "        - DIS      weighted distances to five Boston employment centres\n",
      "        - RAD      index of accessibility to radial highways\n",
      "        - TAX      full-value property-tax rate per $10,000\n",
      "        - PTRATIO  pupil-teacher ratio by town\n",
      "        - B        1000(Bk - 0.63)^2 where Bk is the proportion of blacks by town\n",
      "        - LSTAT    % lower status of the population\n",
      "        - MEDV     Median value of owner-occupied homes in $1000's\n",
      "\n",
      "    :Missing Attribute Values: None\n",
      "\n",
      "    :Creator: Harrison, D. and Rubinfeld, D.L.\n",
      "\n",
      "This is a copy of UCI ML housing dataset.\n",
      "http://archive.ics.uci.edu/ml/datasets/Housing\n",
      "\n",
      "\n",
      "This dataset was taken from the StatLib library which is maintained at Carnegie Mellon University.\n",
      "\n",
      "The Boston house-price data of Harrison, D. and Rubinfeld, D.L. 'Hedonic\n",
      "prices and the demand for clean air', J. Environ. Economics & Management,\n",
      "vol.5, 81-102, 1978.   Used in Belsley, Kuh & Welsch, 'Regression diagnostics\n",
      "...', Wiley, 1980.   N.B. Various transformations are used in the table on\n",
      "pages 244-261 of the latter.\n",
      "\n",
      "The Boston house-price data has been used in many machine learning papers that address regression\n",
      "problems.   \n",
      "     \n",
      "**References**\n",
      "\n",
      "   - Belsley, Kuh & Welsch, 'Regression diagnostics: Identifying Influential Data and Sources of Collinearity', Wiley, 1980. 244-261.\n",
      "   - Quinlan,R. (1993). Combining Instance-Based and Model-Based Learning. In Proceedings on the Tenth International Conference of Machine Learning, 236-243, University of Massachusetts, Amherst. Morgan Kaufmann.\n",
      "   - many more! (see http://archive.ics.uci.edu/ml/datasets/Housing)\n",
      "\n"
     ]
    }
   ],
   "source": [
    "boston = load_boston()\n",
    "print(boston['DESCR'])"
   ]
  },
  {
   "cell_type": "markdown",
   "metadata": {},
   "source": [
    "# Process Data"
   ]
  },
  {
   "cell_type": "code",
   "execution_count": 3,
   "metadata": {},
   "outputs": [
    {
     "name": "stdout",
     "output_type": "stream",
     "text": [
      "Dataset size: (506, 15)\n"
     ]
    },
    {
     "data": {
      "text/html": [
       "<div>\n",
       "<style scoped>\n",
       "    .dataframe tbody tr th:only-of-type {\n",
       "        vertical-align: middle;\n",
       "    }\n",
       "\n",
       "    .dataframe tbody tr th {\n",
       "        vertical-align: top;\n",
       "    }\n",
       "\n",
       "    .dataframe thead th {\n",
       "        text-align: right;\n",
       "    }\n",
       "</style>\n",
       "<table border=\"1\" class=\"dataframe\">\n",
       "  <thead>\n",
       "    <tr style=\"text-align: right;\">\n",
       "      <th></th>\n",
       "      <th>CRIM</th>\n",
       "      <th>ZN</th>\n",
       "      <th>INDUS</th>\n",
       "      <th>CHAS</th>\n",
       "      <th>NOX</th>\n",
       "      <th>RM</th>\n",
       "      <th>AGE</th>\n",
       "      <th>DIS</th>\n",
       "      <th>RAD</th>\n",
       "      <th>TAX</th>\n",
       "      <th>PTRATIO</th>\n",
       "      <th>B</th>\n",
       "      <th>LSTAT</th>\n",
       "      <th>MEDV</th>\n",
       "      <th>num_rooms</th>\n",
       "    </tr>\n",
       "  </thead>\n",
       "  <tbody>\n",
       "    <tr>\n",
       "      <th>0</th>\n",
       "      <td>0.00632</td>\n",
       "      <td>18.0</td>\n",
       "      <td>2.31</td>\n",
       "      <td>0.0</td>\n",
       "      <td>0.538</td>\n",
       "      <td>6.575</td>\n",
       "      <td>65.2</td>\n",
       "      <td>4.0900</td>\n",
       "      <td>1.0</td>\n",
       "      <td>296.0</td>\n",
       "      <td>15.3</td>\n",
       "      <td>396.90</td>\n",
       "      <td>4.98</td>\n",
       "      <td>24.0</td>\n",
       "      <td>6</td>\n",
       "    </tr>\n",
       "    <tr>\n",
       "      <th>1</th>\n",
       "      <td>0.02731</td>\n",
       "      <td>0.0</td>\n",
       "      <td>7.07</td>\n",
       "      <td>0.0</td>\n",
       "      <td>0.469</td>\n",
       "      <td>6.421</td>\n",
       "      <td>78.9</td>\n",
       "      <td>4.9671</td>\n",
       "      <td>2.0</td>\n",
       "      <td>242.0</td>\n",
       "      <td>17.8</td>\n",
       "      <td>396.90</td>\n",
       "      <td>9.14</td>\n",
       "      <td>21.6</td>\n",
       "      <td>6</td>\n",
       "    </tr>\n",
       "    <tr>\n",
       "      <th>2</th>\n",
       "      <td>0.02729</td>\n",
       "      <td>0.0</td>\n",
       "      <td>7.07</td>\n",
       "      <td>0.0</td>\n",
       "      <td>0.469</td>\n",
       "      <td>7.185</td>\n",
       "      <td>61.1</td>\n",
       "      <td>4.9671</td>\n",
       "      <td>2.0</td>\n",
       "      <td>242.0</td>\n",
       "      <td>17.8</td>\n",
       "      <td>392.83</td>\n",
       "      <td>4.03</td>\n",
       "      <td>34.7</td>\n",
       "      <td>7</td>\n",
       "    </tr>\n",
       "    <tr>\n",
       "      <th>3</th>\n",
       "      <td>0.03237</td>\n",
       "      <td>0.0</td>\n",
       "      <td>2.18</td>\n",
       "      <td>0.0</td>\n",
       "      <td>0.458</td>\n",
       "      <td>6.998</td>\n",
       "      <td>45.8</td>\n",
       "      <td>6.0622</td>\n",
       "      <td>3.0</td>\n",
       "      <td>222.0</td>\n",
       "      <td>18.7</td>\n",
       "      <td>394.63</td>\n",
       "      <td>2.94</td>\n",
       "      <td>33.4</td>\n",
       "      <td>6</td>\n",
       "    </tr>\n",
       "    <tr>\n",
       "      <th>4</th>\n",
       "      <td>0.06905</td>\n",
       "      <td>0.0</td>\n",
       "      <td>2.18</td>\n",
       "      <td>0.0</td>\n",
       "      <td>0.458</td>\n",
       "      <td>7.147</td>\n",
       "      <td>54.2</td>\n",
       "      <td>6.0622</td>\n",
       "      <td>3.0</td>\n",
       "      <td>222.0</td>\n",
       "      <td>18.7</td>\n",
       "      <td>396.90</td>\n",
       "      <td>5.33</td>\n",
       "      <td>36.2</td>\n",
       "      <td>7</td>\n",
       "    </tr>\n",
       "  </tbody>\n",
       "</table>\n",
       "</div>"
      ],
      "text/plain": [
       "      CRIM    ZN  INDUS  CHAS    NOX     RM   AGE     DIS  RAD    TAX  \\\n",
       "0  0.00632  18.0   2.31   0.0  0.538  6.575  65.2  4.0900  1.0  296.0   \n",
       "1  0.02731   0.0   7.07   0.0  0.469  6.421  78.9  4.9671  2.0  242.0   \n",
       "2  0.02729   0.0   7.07   0.0  0.469  7.185  61.1  4.9671  2.0  242.0   \n",
       "3  0.03237   0.0   2.18   0.0  0.458  6.998  45.8  6.0622  3.0  222.0   \n",
       "4  0.06905   0.0   2.18   0.0  0.458  7.147  54.2  6.0622  3.0  222.0   \n",
       "\n",
       "   PTRATIO       B  LSTAT  MEDV  num_rooms  \n",
       "0     15.3  396.90   4.98  24.0          6  \n",
       "1     17.8  396.90   9.14  21.6          6  \n",
       "2     17.8  392.83   4.03  34.7          7  \n",
       "3     18.7  394.63   2.94  33.4          6  \n",
       "4     18.7  396.90   5.33  36.2          7  "
      ]
     },
     "execution_count": 3,
     "metadata": {},
     "output_type": "execute_result"
    }
   ],
   "source": [
    "df_boston = pd.DataFrame(boston['data'], columns=boston['feature_names'])\n",
    "df_boston['MEDV'] = boston['target'] # target median value of home in $1000's\n",
    "\n",
    "# Feature engineering: Convert average number of rooms per dwelling to int\n",
    "df_boston['num_rooms'] = df_boston['RM'].apply(lambda x: int(x)) \n",
    "\n",
    "print(f'Dataset size: {df_boston.shape}')\n",
    "df_boston.head()"
   ]
  },
  {
   "cell_type": "code",
   "execution_count": 4,
   "metadata": {},
   "outputs": [
    {
     "name": "stdout",
     "output_type": "stream",
     "text": [
      "Size of train set: (404, 16)\n",
      "Size of test set: (102, 16)\n"
     ]
    }
   ],
   "source": [
    "# Split dataframe into train and test\n",
    "df_train, df_test = train_test_split(df_boston, test_size=0.2, random_state=42)\n",
    "df_train = df_train.reset_index()\n",
    "df_test = df_test.reset_index()\n",
    "print(f'Size of train set: {df_train.shape}')\n",
    "print(f'Size of test set: {df_test.shape}')"
   ]
  },
  {
   "cell_type": "code",
   "execution_count": 5,
   "metadata": {},
   "outputs": [
    {
     "data": {
      "text/html": [
       "<div>\n",
       "<style scoped>\n",
       "    .dataframe tbody tr th:only-of-type {\n",
       "        vertical-align: middle;\n",
       "    }\n",
       "\n",
       "    .dataframe tbody tr th {\n",
       "        vertical-align: top;\n",
       "    }\n",
       "\n",
       "    .dataframe thead th {\n",
       "        text-align: right;\n",
       "    }\n",
       "</style>\n",
       "<table border=\"1\" class=\"dataframe\">\n",
       "  <thead>\n",
       "    <tr style=\"text-align: right;\">\n",
       "      <th></th>\n",
       "      <th>index</th>\n",
       "      <th>CRIM</th>\n",
       "      <th>ZN</th>\n",
       "      <th>INDUS</th>\n",
       "      <th>CHAS</th>\n",
       "      <th>NOX</th>\n",
       "      <th>RM</th>\n",
       "      <th>AGE</th>\n",
       "      <th>DIS</th>\n",
       "      <th>RAD</th>\n",
       "      <th>TAX</th>\n",
       "      <th>PTRATIO</th>\n",
       "      <th>B</th>\n",
       "      <th>LSTAT</th>\n",
       "      <th>MEDV</th>\n",
       "      <th>num_rooms</th>\n",
       "    </tr>\n",
       "  </thead>\n",
       "  <tbody>\n",
       "    <tr>\n",
       "      <th>count</th>\n",
       "      <td>404.000000</td>\n",
       "      <td>404.000000</td>\n",
       "      <td>404.000000</td>\n",
       "      <td>404.000000</td>\n",
       "      <td>404.000000</td>\n",
       "      <td>404.000000</td>\n",
       "      <td>404.000000</td>\n",
       "      <td>404.000000</td>\n",
       "      <td>404.000000</td>\n",
       "      <td>404.000000</td>\n",
       "      <td>404.000000</td>\n",
       "      <td>404.000000</td>\n",
       "      <td>404.000000</td>\n",
       "      <td>404.000000</td>\n",
       "      <td>404.000000</td>\n",
       "      <td>404.000000</td>\n",
       "    </tr>\n",
       "    <tr>\n",
       "      <th>mean</th>\n",
       "      <td>250.428218</td>\n",
       "      <td>3.584372</td>\n",
       "      <td>11.569307</td>\n",
       "      <td>10.985050</td>\n",
       "      <td>0.071782</td>\n",
       "      <td>0.556484</td>\n",
       "      <td>6.315891</td>\n",
       "      <td>68.556436</td>\n",
       "      <td>3.808195</td>\n",
       "      <td>9.356436</td>\n",
       "      <td>404.032178</td>\n",
       "      <td>18.318317</td>\n",
       "      <td>356.278342</td>\n",
       "      <td>12.457351</td>\n",
       "      <td>22.796535</td>\n",
       "      <td>5.804455</td>\n",
       "    </tr>\n",
       "    <tr>\n",
       "      <th>std</th>\n",
       "      <td>142.332893</td>\n",
       "      <td>8.869255</td>\n",
       "      <td>23.152481</td>\n",
       "      <td>6.894618</td>\n",
       "      <td>0.258447</td>\n",
       "      <td>0.117704</td>\n",
       "      <td>0.709452</td>\n",
       "      <td>27.994922</td>\n",
       "      <td>2.131226</td>\n",
       "      <td>8.589721</td>\n",
       "      <td>166.172655</td>\n",
       "      <td>2.228701</td>\n",
       "      <td>91.566533</td>\n",
       "      <td>7.110381</td>\n",
       "      <td>9.332147</td>\n",
       "      <td>0.790062</td>\n",
       "    </tr>\n",
       "    <tr>\n",
       "      <th>min</th>\n",
       "      <td>1.000000</td>\n",
       "      <td>0.009060</td>\n",
       "      <td>0.000000</td>\n",
       "      <td>0.740000</td>\n",
       "      <td>0.000000</td>\n",
       "      <td>0.385000</td>\n",
       "      <td>3.863000</td>\n",
       "      <td>2.900000</td>\n",
       "      <td>1.129600</td>\n",
       "      <td>1.000000</td>\n",
       "      <td>187.000000</td>\n",
       "      <td>12.600000</td>\n",
       "      <td>0.320000</td>\n",
       "      <td>1.730000</td>\n",
       "      <td>5.000000</td>\n",
       "      <td>3.000000</td>\n",
       "    </tr>\n",
       "    <tr>\n",
       "      <th>25%</th>\n",
       "      <td>132.250000</td>\n",
       "      <td>0.081437</td>\n",
       "      <td>0.000000</td>\n",
       "      <td>5.130000</td>\n",
       "      <td>0.000000</td>\n",
       "      <td>0.452000</td>\n",
       "      <td>5.890500</td>\n",
       "      <td>45.550000</td>\n",
       "      <td>2.087875</td>\n",
       "      <td>4.000000</td>\n",
       "      <td>279.000000</td>\n",
       "      <td>16.800000</td>\n",
       "      <td>375.472500</td>\n",
       "      <td>6.772500</td>\n",
       "      <td>16.950000</td>\n",
       "      <td>5.000000</td>\n",
       "    </tr>\n",
       "    <tr>\n",
       "      <th>50%</th>\n",
       "      <td>249.500000</td>\n",
       "      <td>0.261390</td>\n",
       "      <td>0.000000</td>\n",
       "      <td>8.560000</td>\n",
       "      <td>0.000000</td>\n",
       "      <td>0.538000</td>\n",
       "      <td>6.210000</td>\n",
       "      <td>77.700000</td>\n",
       "      <td>3.175750</td>\n",
       "      <td>5.000000</td>\n",
       "      <td>330.000000</td>\n",
       "      <td>18.700000</td>\n",
       "      <td>391.305000</td>\n",
       "      <td>10.925000</td>\n",
       "      <td>21.600000</td>\n",
       "      <td>6.000000</td>\n",
       "    </tr>\n",
       "    <tr>\n",
       "      <th>75%</th>\n",
       "      <td>369.250000</td>\n",
       "      <td>2.983900</td>\n",
       "      <td>20.000000</td>\n",
       "      <td>18.100000</td>\n",
       "      <td>0.000000</td>\n",
       "      <td>0.631000</td>\n",
       "      <td>6.636750</td>\n",
       "      <td>93.650000</td>\n",
       "      <td>5.400800</td>\n",
       "      <td>12.000000</td>\n",
       "      <td>666.000000</td>\n",
       "      <td>20.200000</td>\n",
       "      <td>395.755000</td>\n",
       "      <td>16.372500</td>\n",
       "      <td>26.400000</td>\n",
       "      <td>6.000000</td>\n",
       "    </tr>\n",
       "    <tr>\n",
       "      <th>max</th>\n",
       "      <td>505.000000</td>\n",
       "      <td>88.976200</td>\n",
       "      <td>100.000000</td>\n",
       "      <td>27.740000</td>\n",
       "      <td>1.000000</td>\n",
       "      <td>0.871000</td>\n",
       "      <td>8.780000</td>\n",
       "      <td>100.000000</td>\n",
       "      <td>12.126500</td>\n",
       "      <td>24.000000</td>\n",
       "      <td>711.000000</td>\n",
       "      <td>22.000000</td>\n",
       "      <td>396.900000</td>\n",
       "      <td>37.970000</td>\n",
       "      <td>50.000000</td>\n",
       "      <td>8.000000</td>\n",
       "    </tr>\n",
       "  </tbody>\n",
       "</table>\n",
       "</div>"
      ],
      "text/plain": [
       "            index        CRIM          ZN       INDUS        CHAS         NOX  \\\n",
       "count  404.000000  404.000000  404.000000  404.000000  404.000000  404.000000   \n",
       "mean   250.428218    3.584372   11.569307   10.985050    0.071782    0.556484   \n",
       "std    142.332893    8.869255   23.152481    6.894618    0.258447    0.117704   \n",
       "min      1.000000    0.009060    0.000000    0.740000    0.000000    0.385000   \n",
       "25%    132.250000    0.081437    0.000000    5.130000    0.000000    0.452000   \n",
       "50%    249.500000    0.261390    0.000000    8.560000    0.000000    0.538000   \n",
       "75%    369.250000    2.983900   20.000000   18.100000    0.000000    0.631000   \n",
       "max    505.000000   88.976200  100.000000   27.740000    1.000000    0.871000   \n",
       "\n",
       "               RM         AGE         DIS         RAD         TAX     PTRATIO  \\\n",
       "count  404.000000  404.000000  404.000000  404.000000  404.000000  404.000000   \n",
       "mean     6.315891   68.556436    3.808195    9.356436  404.032178   18.318317   \n",
       "std      0.709452   27.994922    2.131226    8.589721  166.172655    2.228701   \n",
       "min      3.863000    2.900000    1.129600    1.000000  187.000000   12.600000   \n",
       "25%      5.890500   45.550000    2.087875    4.000000  279.000000   16.800000   \n",
       "50%      6.210000   77.700000    3.175750    5.000000  330.000000   18.700000   \n",
       "75%      6.636750   93.650000    5.400800   12.000000  666.000000   20.200000   \n",
       "max      8.780000  100.000000   12.126500   24.000000  711.000000   22.000000   \n",
       "\n",
       "                B       LSTAT        MEDV   num_rooms  \n",
       "count  404.000000  404.000000  404.000000  404.000000  \n",
       "mean   356.278342   12.457351   22.796535    5.804455  \n",
       "std     91.566533    7.110381    9.332147    0.790062  \n",
       "min      0.320000    1.730000    5.000000    3.000000  \n",
       "25%    375.472500    6.772500   16.950000    5.000000  \n",
       "50%    391.305000   10.925000   21.600000    6.000000  \n",
       "75%    395.755000   16.372500   26.400000    6.000000  \n",
       "max    396.900000   37.970000   50.000000    8.000000  "
      ]
     },
     "execution_count": 5,
     "metadata": {},
     "output_type": "execute_result"
    }
   ],
   "source": [
    "# Distribution of train\n",
    "df_train.describe()"
   ]
  },
  {
   "cell_type": "code",
   "execution_count": 6,
   "metadata": {},
   "outputs": [
    {
     "data": {
      "text/html": [
       "<div>\n",
       "<style scoped>\n",
       "    .dataframe tbody tr th:only-of-type {\n",
       "        vertical-align: middle;\n",
       "    }\n",
       "\n",
       "    .dataframe tbody tr th {\n",
       "        vertical-align: top;\n",
       "    }\n",
       "\n",
       "    .dataframe thead th {\n",
       "        text-align: right;\n",
       "    }\n",
       "</style>\n",
       "<table border=\"1\" class=\"dataframe\">\n",
       "  <thead>\n",
       "    <tr style=\"text-align: right;\">\n",
       "      <th></th>\n",
       "      <th>index</th>\n",
       "      <th>CRIM</th>\n",
       "      <th>ZN</th>\n",
       "      <th>INDUS</th>\n",
       "      <th>CHAS</th>\n",
       "      <th>NOX</th>\n",
       "      <th>RM</th>\n",
       "      <th>AGE</th>\n",
       "      <th>DIS</th>\n",
       "      <th>RAD</th>\n",
       "      <th>TAX</th>\n",
       "      <th>PTRATIO</th>\n",
       "      <th>B</th>\n",
       "      <th>LSTAT</th>\n",
       "      <th>MEDV</th>\n",
       "      <th>num_rooms</th>\n",
       "    </tr>\n",
       "  </thead>\n",
       "  <tbody>\n",
       "    <tr>\n",
       "      <th>count</th>\n",
       "      <td>102.000000</td>\n",
       "      <td>102.000000</td>\n",
       "      <td>102.000000</td>\n",
       "      <td>102.000000</td>\n",
       "      <td>102.000000</td>\n",
       "      <td>102.000000</td>\n",
       "      <td>102.000000</td>\n",
       "      <td>102.000000</td>\n",
       "      <td>102.000000</td>\n",
       "      <td>102.000000</td>\n",
       "      <td>102.000000</td>\n",
       "      <td>102.000000</td>\n",
       "      <td>102.000000</td>\n",
       "      <td>102.000000</td>\n",
       "      <td>102.000000</td>\n",
       "      <td>102.000000</td>\n",
       "    </tr>\n",
       "    <tr>\n",
       "      <th>mean</th>\n",
       "      <td>260.705882</td>\n",
       "      <td>3.630947</td>\n",
       "      <td>10.549020</td>\n",
       "      <td>11.737745</td>\n",
       "      <td>0.058824</td>\n",
       "      <td>0.547609</td>\n",
       "      <td>6.160833</td>\n",
       "      <td>68.648039</td>\n",
       "      <td>3.742949</td>\n",
       "      <td>10.313725</td>\n",
       "      <td>424.892157</td>\n",
       "      <td>18.999020</td>\n",
       "      <td>358.241275</td>\n",
       "      <td>13.428235</td>\n",
       "      <td>21.488235</td>\n",
       "      <td>5.666667</td>\n",
       "    </tr>\n",
       "    <tr>\n",
       "      <th>std</th>\n",
       "      <td>161.162337</td>\n",
       "      <td>7.459607</td>\n",
       "      <td>24.083242</td>\n",
       "      <td>6.722576</td>\n",
       "      <td>0.236456</td>\n",
       "      <td>0.108602</td>\n",
       "      <td>0.663825</td>\n",
       "      <td>28.890866</td>\n",
       "      <td>2.010749</td>\n",
       "      <td>9.161889</td>\n",
       "      <td>177.462472</td>\n",
       "      <td>1.800577</td>\n",
       "      <td>90.641872</td>\n",
       "      <td>7.244601</td>\n",
       "      <td>8.605804</td>\n",
       "      <td>0.722116</td>\n",
       "    </tr>\n",
       "    <tr>\n",
       "      <th>min</th>\n",
       "      <td>0.000000</td>\n",
       "      <td>0.006320</td>\n",
       "      <td>0.000000</td>\n",
       "      <td>0.460000</td>\n",
       "      <td>0.000000</td>\n",
       "      <td>0.392000</td>\n",
       "      <td>3.561000</td>\n",
       "      <td>6.200000</td>\n",
       "      <td>1.169100</td>\n",
       "      <td>1.000000</td>\n",
       "      <td>188.000000</td>\n",
       "      <td>13.000000</td>\n",
       "      <td>6.680000</td>\n",
       "      <td>2.880000</td>\n",
       "      <td>5.000000</td>\n",
       "      <td>3.000000</td>\n",
       "    </tr>\n",
       "    <tr>\n",
       "      <th>25%</th>\n",
       "      <td>90.750000</td>\n",
       "      <td>0.087368</td>\n",
       "      <td>0.000000</td>\n",
       "      <td>6.102500</td>\n",
       "      <td>0.000000</td>\n",
       "      <td>0.448250</td>\n",
       "      <td>5.870250</td>\n",
       "      <td>43.800000</td>\n",
       "      <td>2.263950</td>\n",
       "      <td>4.000000</td>\n",
       "      <td>281.750000</td>\n",
       "      <td>18.400000</td>\n",
       "      <td>375.020000</td>\n",
       "      <td>7.687500</td>\n",
       "      <td>17.125000</td>\n",
       "      <td>5.000000</td>\n",
       "    </tr>\n",
       "    <tr>\n",
       "      <th>50%</th>\n",
       "      <td>272.500000</td>\n",
       "      <td>0.209885</td>\n",
       "      <td>0.000000</td>\n",
       "      <td>10.590000</td>\n",
       "      <td>0.000000</td>\n",
       "      <td>0.532000</td>\n",
       "      <td>6.170500</td>\n",
       "      <td>74.700000</td>\n",
       "      <td>3.353400</td>\n",
       "      <td>5.000000</td>\n",
       "      <td>345.000000</td>\n",
       "      <td>19.200000</td>\n",
       "      <td>392.205000</td>\n",
       "      <td>12.335000</td>\n",
       "      <td>20.150000</td>\n",
       "      <td>6.000000</td>\n",
       "    </tr>\n",
       "    <tr>\n",
       "      <th>75%</th>\n",
       "      <td>410.250000</td>\n",
       "      <td>4.522473</td>\n",
       "      <td>0.000000</td>\n",
       "      <td>18.100000</td>\n",
       "      <td>0.000000</td>\n",
       "      <td>0.621500</td>\n",
       "      <td>6.479250</td>\n",
       "      <td>95.225000</td>\n",
       "      <td>4.764825</td>\n",
       "      <td>24.000000</td>\n",
       "      <td>666.000000</td>\n",
       "      <td>20.200000</td>\n",
       "      <td>396.900000</td>\n",
       "      <td>18.017500</td>\n",
       "      <td>24.075000</td>\n",
       "      <td>6.000000</td>\n",
       "    </tr>\n",
       "    <tr>\n",
       "      <th>max</th>\n",
       "      <td>501.000000</td>\n",
       "      <td>45.746100</td>\n",
       "      <td>95.000000</td>\n",
       "      <td>27.740000</td>\n",
       "      <td>1.000000</td>\n",
       "      <td>0.871000</td>\n",
       "      <td>8.034000</td>\n",
       "      <td>100.000000</td>\n",
       "      <td>10.710300</td>\n",
       "      <td>24.000000</td>\n",
       "      <td>711.000000</td>\n",
       "      <td>22.000000</td>\n",
       "      <td>396.900000</td>\n",
       "      <td>36.980000</td>\n",
       "      <td>50.000000</td>\n",
       "      <td>8.000000</td>\n",
       "    </tr>\n",
       "  </tbody>\n",
       "</table>\n",
       "</div>"
      ],
      "text/plain": [
       "            index        CRIM          ZN       INDUS        CHAS         NOX  \\\n",
       "count  102.000000  102.000000  102.000000  102.000000  102.000000  102.000000   \n",
       "mean   260.705882    3.630947   10.549020   11.737745    0.058824    0.547609   \n",
       "std    161.162337    7.459607   24.083242    6.722576    0.236456    0.108602   \n",
       "min      0.000000    0.006320    0.000000    0.460000    0.000000    0.392000   \n",
       "25%     90.750000    0.087368    0.000000    6.102500    0.000000    0.448250   \n",
       "50%    272.500000    0.209885    0.000000   10.590000    0.000000    0.532000   \n",
       "75%    410.250000    4.522473    0.000000   18.100000    0.000000    0.621500   \n",
       "max    501.000000   45.746100   95.000000   27.740000    1.000000    0.871000   \n",
       "\n",
       "               RM         AGE         DIS         RAD         TAX     PTRATIO  \\\n",
       "count  102.000000  102.000000  102.000000  102.000000  102.000000  102.000000   \n",
       "mean     6.160833   68.648039    3.742949   10.313725  424.892157   18.999020   \n",
       "std      0.663825   28.890866    2.010749    9.161889  177.462472    1.800577   \n",
       "min      3.561000    6.200000    1.169100    1.000000  188.000000   13.000000   \n",
       "25%      5.870250   43.800000    2.263950    4.000000  281.750000   18.400000   \n",
       "50%      6.170500   74.700000    3.353400    5.000000  345.000000   19.200000   \n",
       "75%      6.479250   95.225000    4.764825   24.000000  666.000000   20.200000   \n",
       "max      8.034000  100.000000   10.710300   24.000000  711.000000   22.000000   \n",
       "\n",
       "                B       LSTAT        MEDV   num_rooms  \n",
       "count  102.000000  102.000000  102.000000  102.000000  \n",
       "mean   358.241275   13.428235   21.488235    5.666667  \n",
       "std     90.641872    7.244601    8.605804    0.722116  \n",
       "min      6.680000    2.880000    5.000000    3.000000  \n",
       "25%    375.020000    7.687500   17.125000    5.000000  \n",
       "50%    392.205000   12.335000   20.150000    6.000000  \n",
       "75%    396.900000   18.017500   24.075000    6.000000  \n",
       "max    396.900000   36.980000   50.000000    8.000000  "
      ]
     },
     "execution_count": 6,
     "metadata": {},
     "output_type": "execute_result"
    }
   ],
   "source": [
    "# Distribution of test\n",
    "df_test.describe()"
   ]
  },
  {
   "cell_type": "markdown",
   "metadata": {},
   "source": [
    "# Baseline Models\n",
    "\n",
    "1. Use overall mean value of all houses in the train set\n",
    "2. Use mean value based on number of rooms in the train set"
   ]
  },
  {
   "cell_type": "code",
   "execution_count": 7,
   "metadata": {},
   "outputs": [
    {
     "name": "stdout",
     "output_type": "stream",
     "text": [
      "Overall mean value: $22796.53\n"
     ]
    }
   ],
   "source": [
    "print('Overall mean value: $%.2f' % (df_train['MEDV'].mean() * 1000))"
   ]
  },
  {
   "cell_type": "code",
   "execution_count": 8,
   "metadata": {},
   "outputs": [
    {
     "data": {
      "text/html": [
       "<div>\n",
       "<style scoped>\n",
       "    .dataframe tbody tr th:only-of-type {\n",
       "        vertical-align: middle;\n",
       "    }\n",
       "\n",
       "    .dataframe tbody tr th {\n",
       "        vertical-align: top;\n",
       "    }\n",
       "\n",
       "    .dataframe thead th {\n",
       "        text-align: right;\n",
       "    }\n",
       "</style>\n",
       "<table border=\"1\" class=\"dataframe\">\n",
       "  <thead>\n",
       "    <tr style=\"text-align: right;\">\n",
       "      <th></th>\n",
       "      <th>num_rooms</th>\n",
       "      <th>MEDV mean</th>\n",
       "      <th>MEDV count</th>\n",
       "    </tr>\n",
       "  </thead>\n",
       "  <tbody>\n",
       "    <tr>\n",
       "      <th>0</th>\n",
       "      <td>3</td>\n",
       "      <td>23.100000</td>\n",
       "      <td>1</td>\n",
       "    </tr>\n",
       "    <tr>\n",
       "      <th>1</th>\n",
       "      <td>4</td>\n",
       "      <td>17.320000</td>\n",
       "      <td>10</td>\n",
       "    </tr>\n",
       "    <tr>\n",
       "      <th>2</th>\n",
       "      <td>5</td>\n",
       "      <td>17.654400</td>\n",
       "      <td>125</td>\n",
       "    </tr>\n",
       "    <tr>\n",
       "      <th>3</th>\n",
       "      <td>6</td>\n",
       "      <td>21.926066</td>\n",
       "      <td>211</td>\n",
       "    </tr>\n",
       "    <tr>\n",
       "      <th>4</th>\n",
       "      <td>7</td>\n",
       "      <td>36.793333</td>\n",
       "      <td>45</td>\n",
       "    </tr>\n",
       "    <tr>\n",
       "      <th>5</th>\n",
       "      <td>8</td>\n",
       "      <td>43.716667</td>\n",
       "      <td>12</td>\n",
       "    </tr>\n",
       "  </tbody>\n",
       "</table>\n",
       "</div>"
      ],
      "text/plain": [
       "   num_rooms  MEDV mean  MEDV count\n",
       "0          3  23.100000           1\n",
       "1          4  17.320000          10\n",
       "2          5  17.654400         125\n",
       "3          6  21.926066         211\n",
       "4          7  36.793333          45\n",
       "5          8  43.716667          12"
      ]
     },
     "execution_count": 8,
     "metadata": {},
     "output_type": "execute_result"
    }
   ],
   "source": [
    "# Get mean value based on number of rooms (and make sure there are enough samples)\n",
    "df_num_rooms = df_train.groupby('num_rooms').agg({'MEDV': ['mean', 'count']}).reset_index()\n",
    "df_num_rooms.columns = [' '.join(col).strip() for col in df_num_rooms.columns.values]\n",
    "df_num_rooms"
   ]
  },
  {
   "cell_type": "markdown",
   "metadata": {},
   "source": [
    "Since there's only one sample for 3 bedroom dwellings, we'll fall back to the overall mean in this case."
   ]
  },
  {
   "cell_type": "code",
   "execution_count": 10,
   "metadata": {},
   "outputs": [
    {
     "name": "stderr",
     "output_type": "stream",
     "text": [
      "6it [00:00, 2998.43it/s]\n"
     ]
    }
   ],
   "source": [
    "# Store mean value by number of rooms in a dictionary\n",
    "num_rooms_value_dict = {}\n",
    "for _, row in tqdm(df_num_rooms.iterrows()):\n",
    "    if row['num_rooms'] == 3: # fall back to overall mean\n",
    "        num_rooms_value_dict[row['num_rooms']] = df_train['MEDV'].mean()\n",
    "    else:\n",
    "        num_rooms_value_dict[row['num_rooms']] = row['MEDV mean']"
   ]
  },
  {
   "cell_type": "code",
   "execution_count": 11,
   "metadata": {},
   "outputs": [],
   "source": [
    "# Augment test dataframe with baseline model results\n",
    "df_test['overall_mean_val'] = df_train['MEDV'].mean()\n",
    "df_test['rooms_mean_val'] = df_test.apply(lambda x: num_rooms_value_dict[x['num_rooms']], axis=1)"
   ]
  },
  {
   "cell_type": "markdown",
   "metadata": {},
   "source": [
    "# Regression Model"
   ]
  },
  {
   "cell_type": "code",
   "execution_count": 32,
   "metadata": {},
   "outputs": [
    {
     "name": "stdout",
     "output_type": "stream",
     "text": [
      "Number of features: 13\n"
     ]
    }
   ],
   "source": [
    "print(f\"Number of features: {len(boston['feature_names'])}\")"
   ]
  },
  {
   "cell_type": "code",
   "execution_count": 51,
   "metadata": {},
   "outputs": [],
   "source": [
    "X_train = df_train[boston['feature_names']]\n",
    "X_test = df_test[boston['feature_names']]\n",
    "y_train = df_train[['MEDV']].values"
   ]
  },
  {
   "cell_type": "code",
   "execution_count": 85,
   "metadata": {},
   "outputs": [
    {
     "name": "stdout",
     "output_type": "stream",
     "text": [
      "Fitting 5 folds for each of 20 candidates, totalling 100 fits\n"
     ]
    },
    {
     "name": "stderr",
     "output_type": "stream",
     "text": [
      "[Parallel(n_jobs=4)]: Done  10 tasks      | elapsed:    4.2s\n",
      "[Parallel(n_jobs=4)]: Done 100 out of 100 | elapsed:    4.6s finished\n"
     ]
    },
    {
     "data": {
      "text/plain": [
       "GridSearchCV(cv=5, error_score='raise',\n",
       "       estimator=Pipeline(memory=None,\n",
       "     steps=[('scaler', StandardScaler(copy=True, with_mean=True, with_std=True)), ('pca', PCA(copy=True, iterated_power='auto', n_components=None, random_state=42,\n",
       "  svd_solver='auto', tol=0.0, whiten=False)), ('regression', Ridge(alpha=1.0, copy_X=True, fit_intercept=True, max_iter=None,\n",
       "   normalize=False, random_state=42, solver='auto', tol=0.001))]),\n",
       "       fit_params=None, iid=True, n_jobs=4,\n",
       "       param_grid={'pca__n_components': [2, 4, 8, 10, 13], 'regression__alpha': [0.0, 0.1, 1.0, 10.0]},\n",
       "       pre_dispatch='2*n_jobs', refit=True, return_train_score='warn',\n",
       "       scoring=None, verbose=5)"
      ]
     },
     "execution_count": 85,
     "metadata": {},
     "output_type": "execute_result"
    }
   ],
   "source": [
    "model_pipeline = Pipeline(steps=[('scaler', StandardScaler()),\n",
    "                                 ('pca', PCA(random_state=42)), \n",
    "                                 ('regression', Ridge(random_state=42))])\n",
    "alphas = [0.0, 0.1, 1.0, 10.0]\n",
    "n_components = [2, 4, 8, 10, 13]\n",
    "estimator  = GridSearchCV(model_pipeline, cv=5, n_jobs=4, verbose=5, param_grid=dict(\n",
    "                                        pca__n_components=n_components,\n",
    "                                        regression__alpha=alphas))\n",
    "estimator.fit(X_train, y_train)"
   ]
  },
  {
   "cell_type": "code",
   "execution_count": 86,
   "metadata": {},
   "outputs": [
    {
     "data": {
      "text/plain": [
       "{'pca__n_components': 13, 'regression__alpha': 1.0}"
      ]
     },
     "execution_count": 86,
     "metadata": {},
     "output_type": "execute_result"
    }
   ],
   "source": [
    "estimator.best_params_ "
   ]
  },
  {
   "cell_type": "code",
   "execution_count": 87,
   "metadata": {},
   "outputs": [],
   "source": [
    "best_model = estimator.best_estimator_"
   ]
  },
  {
   "cell_type": "code",
   "execution_count": 88,
   "metadata": {},
   "outputs": [],
   "source": [
    "y_test = best_model.predict(X_test)"
   ]
  },
  {
   "cell_type": "code",
   "execution_count": 89,
   "metadata": {},
   "outputs": [],
   "source": [
    "df_test['model_val'] = y_test"
   ]
  },
  {
   "cell_type": "markdown",
   "metadata": {},
   "source": [
    "# Evaluating Model Goodness"
   ]
  },
  {
   "cell_type": "code",
   "execution_count": 90,
   "metadata": {},
   "outputs": [],
   "source": [
    "abs_error = lambda estimate, target: abs(estimate - target)\n",
    "abs_pc_error = lambda estimate, target: abs(estimate - target) / target * 100\n",
    "sq_error = lambda estimate, target: (estimate - target) ** 2\n",
    "\n",
    "df_test['om_ae'] = df_test.apply(lambda row: abs_error(row['overall_mean_val'], row['MEDV']), axis=1)\n",
    "df_test['rm_ae'] = df_test.apply(lambda row: abs_error(row['rooms_mean_val'], row['MEDV']), axis=1)\n",
    "df_test['md_ae'] = df_test.apply(lambda row: abs_error(row['model_val'], row['MEDV']), axis=1)\n",
    "df_test['om_ape'] = df_test.apply(lambda row: abs_pc_error(row['overall_mean_val'], row['MEDV']), axis=1)\n",
    "df_test['rm_ape'] = df_test.apply(lambda row: abs_pc_error(row['rooms_mean_val'], row['MEDV']), axis=1)\n",
    "df_test['md_ape'] = df_test.apply(lambda row: abs_pc_error(row['model_val'], row['MEDV']), axis=1)\n",
    "df_test['om_se'] = df_test.apply(lambda row: sq_error(row['overall_mean_val'], row['MEDV']), axis=1)\n",
    "df_test['rm_se'] = df_test.apply(lambda row: sq_error(row['rooms_mean_val'], row['MEDV']), axis=1)\n",
    "df_test['md_se'] = df_test.apply(lambda row: sq_error(row['model_val'], row['MEDV']), axis=1)"
   ]
  },
  {
   "cell_type": "code",
   "execution_count": 91,
   "metadata": {},
   "outputs": [
    {
     "data": {
      "image/png": "[encoded data removed]",
      "text/plain": [
       "<Figure size 432x288 with 1 Axes>"
      ]
     },
     "metadata": {
      "image/png": {
       "height": 277,
       "width": 389
      }
     },
     "output_type": "display_data"
    }
   ],
   "source": [
    "width = 5\n",
    "hist_granular, bins_granular = np.histogram(df_test['om_ape'], bins=np.arange(0, 101, width))\n",
    "hist_granular = hist_granular / len(df_test) * 100\n",
    "f, ax = plt.subplots()\n",
    "ax.bar(bins_granular[:-1], hist_granular, width=width, align='edge', label='Distribution')\n",
    "ax.set_ylabel('% cases with <= x% APE')\n",
    "ax.set_xlabel('Absolute % Difference (x)');\n",
    "ax.grid(True)\n",
    "ax.set_title('Baseline 1');"
   ]
  },
  {
   "cell_type": "code",
   "execution_count": 92,
   "metadata": {},
   "outputs": [
    {
     "data": {
      "image/png": "[encoded data removed]",
      "text/plain": [
       "<Figure size 432x288 with 1 Axes>"
      ]
     },
     "metadata": {
      "image/png": {
       "height": 277,
       "width": 389
      }
     },
     "output_type": "display_data"
    }
   ],
   "source": [
    "width = 5\n",
    "hist_granular, bins_granular = np.histogram(df_test['rm_ape'], bins=np.arange(0, 101, width))\n",
    "hist_granular = hist_granular / len(df_test) * 100\n",
    "f, ax = plt.subplots()\n",
    "ax.bar(bins_granular[:-1], hist_granular, width=width, align='edge', label='Distribution')\n",
    "ax.set_ylabel('% cases with <= x% APE')\n",
    "ax.set_xlabel('Absolute % Difference (x)');\n",
    "ax.grid(True)\n",
    "ax.set_title('Baseline 2');"
   ]
  },
  {
   "cell_type": "code",
   "execution_count": 93,
   "metadata": {},
   "outputs": [
    {
     "data": {
      "image/png": "[encoded data removed]",
      "text/plain": [
       "<Figure size 432x288 with 1 Axes>"
      ]
     },
     "metadata": {
      "image/png": {
       "height": 277,
       "width": 381
      }
     },
     "output_type": "display_data"
    }
   ],
   "source": [
    "width = 5\n",
    "hist_granular, bins_granular = np.histogram(df_test['md_ape'], bins=np.arange(0, 101, width))\n",
    "hist_granular = hist_granular / len(df_test) * 100\n",
    "f, ax = plt.subplots()\n",
    "ax.bar(bins_granular[:-1], hist_granular, width=width, align='edge', label='Distribution')\n",
    "ax.set_ylabel('% cases with <= x% APE')\n",
    "ax.set_xlabel('Absolute % Difference (x)');\n",
    "ax.set_ylim([])\n",
    "ax.grid(True)\n",
    "ax.set_title('Regression Model');"
   ]
  },
  {
   "cell_type": "code",
   "execution_count": 94,
   "metadata": {},
   "outputs": [
    {
     "name": "stdout",
     "output_type": "stream",
     "text": [
      "Baseline 1 Performance\n",
      "\tMean AE: $6255.84\n",
      "\tMedian AE: $4346.53\n",
      "\tMean APE: 37.67%\n",
      "\tMedian APE: 20.94%\n",
      "\tRMSE: $8662.88\n",
      "\n",
      "Baseline 2 Performance\n",
      "\tMean AE: $4651.28\n",
      "\tMedian AE: $3073.93\n",
      "\tMean APE: 27.87%\n",
      "\tMedian APE: 14.96%\n",
      "\tRMSE: $6402.08\n",
      "\n",
      "Regression Model Performance\n",
      "\tMean AE: $3188.07\n",
      "\tMedian AE: $2340.03\n",
      "\tMean APE: 16.87%\n",
      "\tMedian APE: 11.64%\n",
      "\tRMSE: $4932.84\n"
     ]
    }
   ],
   "source": [
    "def print_perf(df, col_ae, col_ape, col_se, header):\n",
    "    print(header)\n",
    "    print('\\tMean AE: $%.2f' % (df[col_ae].mean() * 1000))\n",
    "    print('\\tMedian AE: $%.2f' % (df[col_ae].median() * 1000))\n",
    "    print('\\tMean APE: %.2f%%' % (df[col_ape].mean()))\n",
    "    print('\\tMedian APE: %.2f%%' % (df[col_ape].median()))\n",
    "    print('\\tRMSE: $%.2f' % (math.sqrt(df[col_se].mean()) * 1000))\n",
    "print_perf(df_test, 'om_ae', 'om_ape', 'om_se', 'Baseline 1 Performance')\n",
    "print_perf(df_test, 'rm_ae', 'rm_ape', 'rm_se', '\\nBaseline 2 Performance')\n",
    "print_perf(df_test, 'md_ae', 'md_ape', 'md_se', '\\nRegression Model Performance')"
   ]
  }
 ],
 "metadata": {
  "kernelspec": {
   "display_name": "Python 3",
   "language": "python",
   "name": "python3"
  },
  "language_info": {
   "codemirror_mode": {
    "name": "ipython",
    "version": 3
   },
   "file_extension": ".py",
   "mimetype": "text/x-python",
   "name": "python",
   "nbconvert_exporter": "python",
   "pygments_lexer": "ipython3",
   "version": "3.6.5"
  }
 },
 "nbformat": 4,
 "nbformat_minor": 2
}
