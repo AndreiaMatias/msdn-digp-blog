{
 "cells": [
  {
   "cell_type": "code",
   "execution_count": 181,
   "metadata": {},
   "outputs": [],
   "source": [
    "import math\n",
    "import random\n",
    "import itertools\n",
    "import numpy as np\n",
    "import pandas as pd\n",
    "from tqdm import tqdm\n",
    "\n",
    "from sklearn.datasets import load_breast_cancer\n",
    "from sklearn.model_selection import train_test_split\n",
    "from sklearn.pipeline import Pipeline\n",
    "from sklearn.model_selection import GridSearchCV\n",
    "from sklearn.metrics import confusion_matrix, roc_curve, auc, precision_recall_curve, average_precision_score\n",
    "from sklearn.preprocessing import StandardScaler\n",
    "from sklearn.decomposition import PCA\n",
    "from sklearn.ensemble import RandomForestClassifier\n",
    "\n",
    "from IPython.display import Image\n",
    "\n",
    "import matplotlib.pyplot as plt\n",
    "import seaborn as sns\n",
    "sns.set(style='white')\n",
    "sns.set_palette(\"bright\")\n",
    "%matplotlib inline\n",
    "%config InlineBackend.figure_format = 'retina'"
   ]
  },
  {
   "cell_type": "markdown",
   "metadata": {},
   "source": [
    "# Load Data"
   ]
  },
  {
   "cell_type": "code",
   "execution_count": 5,
   "metadata": {
    "scrolled": false
   },
   "outputs": [
    {
     "name": "stdout",
     "output_type": "stream",
     "text": [
      "Breast Cancer Wisconsin (Diagnostic) Database\n",
      "=============================================\n",
      "\n",
      "Notes\n",
      "-----\n",
      "Data Set Characteristics:\n",
      "    :Number of Instances: 569\n",
      "\n",
      "    :Number of Attributes: 30 numeric, predictive attributes and the class\n",
      "\n",
      "    :Attribute Information:\n",
      "        - radius (mean of distances from center to points on the perimeter)\n",
      "        - texture (standard deviation of gray-scale values)\n",
      "        - perimeter\n",
      "        - area\n",
      "        - smoothness (local variation in radius lengths)\n",
      "        - compactness (perimeter^2 / area - 1.0)\n",
      "        - concavity (severity of concave portions of the contour)\n",
      "        - concave points (number of concave portions of the contour)\n",
      "        - symmetry \n",
      "        - fractal dimension (\"coastline approximation\" - 1)\n",
      "\n",
      "        The mean, standard error, and \"worst\" or largest (mean of the three\n",
      "        largest values) of these features were computed for each image,\n",
      "        resulting in 30 features.  For instance, field 3 is Mean Radius, field\n",
      "        13 is Radius SE, field 23 is Worst Radius.\n",
      "\n",
      "        - class:\n",
      "                - WDBC-Malignant\n",
      "                - WDBC-Benign\n",
      "\n",
      "    :Summary Statistics:\n",
      "\n",
      "    ===================================== ====== ======\n",
      "                                           Min    Max\n",
      "    ===================================== ====== ======\n",
      "    radius (mean):                        6.981  28.11\n",
      "    texture (mean):                       9.71   39.28\n",
      "    perimeter (mean):                     43.79  188.5\n",
      "    area (mean):                          143.5  2501.0\n",
      "    smoothness (mean):                    0.053  0.163\n",
      "    compactness (mean):                   0.019  0.345\n",
      "    concavity (mean):                     0.0    0.427\n",
      "    concave points (mean):                0.0    0.201\n",
      "    symmetry (mean):                      0.106  0.304\n",
      "    fractal dimension (mean):             0.05   0.097\n",
      "    radius (standard error):              0.112  2.873\n",
      "    texture (standard error):             0.36   4.885\n",
      "    perimeter (standard error):           0.757  21.98\n",
      "    area (standard error):                6.802  542.2\n",
      "    smoothness (standard error):          0.002  0.031\n",
      "    compactness (standard error):         0.002  0.135\n",
      "    concavity (standard error):           0.0    0.396\n",
      "    concave points (standard error):      0.0    0.053\n",
      "    symmetry (standard error):            0.008  0.079\n",
      "    fractal dimension (standard error):   0.001  0.03\n",
      "    radius (worst):                       7.93   36.04\n",
      "    texture (worst):                      12.02  49.54\n",
      "    perimeter (worst):                    50.41  251.2\n",
      "    area (worst):                         185.2  4254.0\n",
      "    smoothness (worst):                   0.071  0.223\n",
      "    compactness (worst):                  0.027  1.058\n",
      "    concavity (worst):                    0.0    1.252\n",
      "    concave points (worst):               0.0    0.291\n",
      "    symmetry (worst):                     0.156  0.664\n",
      "    fractal dimension (worst):            0.055  0.208\n",
      "    ===================================== ====== ======\n",
      "\n",
      "    :Missing Attribute Values: None\n",
      "\n",
      "    :Class Distribution: 212 - Malignant, 357 - Benign\n",
      "\n",
      "    :Creator:  Dr. William H. Wolberg, W. Nick Street, Olvi L. Mangasarian\n",
      "\n",
      "    :Donor: Nick Street\n",
      "\n",
      "    :Date: November, 1995\n",
      "\n",
      "This is a copy of UCI ML Breast Cancer Wisconsin (Diagnostic) datasets.\n",
      "https://goo.gl/U2Uwz2\n",
      "\n",
      "Features are computed from a digitized image of a fine needle\n",
      "aspirate (FNA) of a breast mass.  They describe\n",
      "characteristics of the cell nuclei present in the image.\n",
      "\n",
      "Separating plane described above was obtained using\n",
      "Multisurface Method-Tree (MSM-T) [K. P. Bennett, \"Decision Tree\n",
      "Construction Via Linear Programming.\" Proceedings of the 4th\n",
      "Midwest Artificial Intelligence and Cognitive Science Society,\n",
      "pp. 97-101, 1992], a classification method which uses linear\n",
      "programming to construct a decision tree.  Relevant features\n",
      "were selected using an exhaustive search in the space of 1-4\n",
      "features and 1-3 separating planes.\n",
      "\n",
      "The actual linear program used to obtain the separating plane\n",
      "in the 3-dimensional space is that described in:\n",
      "[K. P. Bennett and O. L. Mangasarian: \"Robust Linear\n",
      "Programming Discrimination of Two Linearly Inseparable Sets\",\n",
      "Optimization Methods and Software 1, 1992, 23-34].\n",
      "\n",
      "This database is also available through the UW CS ftp server:\n",
      "\n",
      "ftp ftp.cs.wisc.edu\n",
      "cd math-prog/cpo-dataset/machine-learn/WDBC/\n",
      "\n",
      "References\n",
      "----------\n",
      "   - W.N. Street, W.H. Wolberg and O.L. Mangasarian. Nuclear feature extraction \n",
      "     for breast tumor diagnosis. IS&T/SPIE 1993 International Symposium on \n",
      "     Electronic Imaging: Science and Technology, volume 1905, pages 861-870,\n",
      "     San Jose, CA, 1993.\n",
      "   - O.L. Mangasarian, W.N. Street and W.H. Wolberg. Breast cancer diagnosis and \n",
      "     prognosis via linear programming. Operations Research, 43(4), pages 570-577, \n",
      "     July-August 1995.\n",
      "   - W.H. Wolberg, W.N. Street, and O.L. Mangasarian. Machine learning techniques\n",
      "     to diagnose breast cancer from fine-needle aspirates. Cancer Letters 77 (1994) \n",
      "     163-171.\n",
      "\n"
     ]
    }
   ],
   "source": [
    "breast_cancer = load_breast_cancer()\n",
    "print(breast_cancer['DESCR'])"
   ]
  },
  {
   "cell_type": "markdown",
   "metadata": {},
   "source": [
    "# Process Data"
   ]
  },
  {
   "cell_type": "code",
   "execution_count": 15,
   "metadata": {},
   "outputs": [
    {
     "name": "stdout",
     "output_type": "stream",
     "text": [
      "Dataset size: (569, 31)\n"
     ]
    },
    {
     "data": {
      "text/html": [
       "<div>\n",
       "<style scoped>\n",
       "    .dataframe tbody tr th:only-of-type {\n",
       "        vertical-align: middle;\n",
       "    }\n",
       "\n",
       "    .dataframe tbody tr th {\n",
       "        vertical-align: top;\n",
       "    }\n",
       "\n",
       "    .dataframe thead th {\n",
       "        text-align: right;\n",
       "    }\n",
       "</style>\n",
       "<table border=\"1\" class=\"dataframe\">\n",
       "  <thead>\n",
       "    <tr style=\"text-align: right;\">\n",
       "      <th></th>\n",
       "      <th>mean radius</th>\n",
       "      <th>mean texture</th>\n",
       "      <th>mean perimeter</th>\n",
       "      <th>mean area</th>\n",
       "      <th>mean smoothness</th>\n",
       "      <th>mean compactness</th>\n",
       "      <th>mean concavity</th>\n",
       "      <th>mean concave points</th>\n",
       "      <th>mean symmetry</th>\n",
       "      <th>mean fractal dimension</th>\n",
       "      <th>...</th>\n",
       "      <th>worst texture</th>\n",
       "      <th>worst perimeter</th>\n",
       "      <th>worst area</th>\n",
       "      <th>worst smoothness</th>\n",
       "      <th>worst compactness</th>\n",
       "      <th>worst concavity</th>\n",
       "      <th>worst concave points</th>\n",
       "      <th>worst symmetry</th>\n",
       "      <th>worst fractal dimension</th>\n",
       "      <th>target</th>\n",
       "    </tr>\n",
       "  </thead>\n",
       "  <tbody>\n",
       "    <tr>\n",
       "      <th>0</th>\n",
       "      <td>17.99</td>\n",
       "      <td>10.38</td>\n",
       "      <td>122.80</td>\n",
       "      <td>1001.0</td>\n",
       "      <td>0.11840</td>\n",
       "      <td>0.27760</td>\n",
       "      <td>0.3001</td>\n",
       "      <td>0.14710</td>\n",
       "      <td>0.2419</td>\n",
       "      <td>0.07871</td>\n",
       "      <td>...</td>\n",
       "      <td>17.33</td>\n",
       "      <td>184.60</td>\n",
       "      <td>2019.0</td>\n",
       "      <td>0.1622</td>\n",
       "      <td>0.6656</td>\n",
       "      <td>0.7119</td>\n",
       "      <td>0.2654</td>\n",
       "      <td>0.4601</td>\n",
       "      <td>0.11890</td>\n",
       "      <td>0</td>\n",
       "    </tr>\n",
       "    <tr>\n",
       "      <th>1</th>\n",
       "      <td>20.57</td>\n",
       "      <td>17.77</td>\n",
       "      <td>132.90</td>\n",
       "      <td>1326.0</td>\n",
       "      <td>0.08474</td>\n",
       "      <td>0.07864</td>\n",
       "      <td>0.0869</td>\n",
       "      <td>0.07017</td>\n",
       "      <td>0.1812</td>\n",
       "      <td>0.05667</td>\n",
       "      <td>...</td>\n",
       "      <td>23.41</td>\n",
       "      <td>158.80</td>\n",
       "      <td>1956.0</td>\n",
       "      <td>0.1238</td>\n",
       "      <td>0.1866</td>\n",
       "      <td>0.2416</td>\n",
       "      <td>0.1860</td>\n",
       "      <td>0.2750</td>\n",
       "      <td>0.08902</td>\n",
       "      <td>0</td>\n",
       "    </tr>\n",
       "    <tr>\n",
       "      <th>2</th>\n",
       "      <td>19.69</td>\n",
       "      <td>21.25</td>\n",
       "      <td>130.00</td>\n",
       "      <td>1203.0</td>\n",
       "      <td>0.10960</td>\n",
       "      <td>0.15990</td>\n",
       "      <td>0.1974</td>\n",
       "      <td>0.12790</td>\n",
       "      <td>0.2069</td>\n",
       "      <td>0.05999</td>\n",
       "      <td>...</td>\n",
       "      <td>25.53</td>\n",
       "      <td>152.50</td>\n",
       "      <td>1709.0</td>\n",
       "      <td>0.1444</td>\n",
       "      <td>0.4245</td>\n",
       "      <td>0.4504</td>\n",
       "      <td>0.2430</td>\n",
       "      <td>0.3613</td>\n",
       "      <td>0.08758</td>\n",
       "      <td>0</td>\n",
       "    </tr>\n",
       "    <tr>\n",
       "      <th>3</th>\n",
       "      <td>11.42</td>\n",
       "      <td>20.38</td>\n",
       "      <td>77.58</td>\n",
       "      <td>386.1</td>\n",
       "      <td>0.14250</td>\n",
       "      <td>0.28390</td>\n",
       "      <td>0.2414</td>\n",
       "      <td>0.10520</td>\n",
       "      <td>0.2597</td>\n",
       "      <td>0.09744</td>\n",
       "      <td>...</td>\n",
       "      <td>26.50</td>\n",
       "      <td>98.87</td>\n",
       "      <td>567.7</td>\n",
       "      <td>0.2098</td>\n",
       "      <td>0.8663</td>\n",
       "      <td>0.6869</td>\n",
       "      <td>0.2575</td>\n",
       "      <td>0.6638</td>\n",
       "      <td>0.17300</td>\n",
       "      <td>0</td>\n",
       "    </tr>\n",
       "    <tr>\n",
       "      <th>4</th>\n",
       "      <td>20.29</td>\n",
       "      <td>14.34</td>\n",
       "      <td>135.10</td>\n",
       "      <td>1297.0</td>\n",
       "      <td>0.10030</td>\n",
       "      <td>0.13280</td>\n",
       "      <td>0.1980</td>\n",
       "      <td>0.10430</td>\n",
       "      <td>0.1809</td>\n",
       "      <td>0.05883</td>\n",
       "      <td>...</td>\n",
       "      <td>16.67</td>\n",
       "      <td>152.20</td>\n",
       "      <td>1575.0</td>\n",
       "      <td>0.1374</td>\n",
       "      <td>0.2050</td>\n",
       "      <td>0.4000</td>\n",
       "      <td>0.1625</td>\n",
       "      <td>0.2364</td>\n",
       "      <td>0.07678</td>\n",
       "      <td>0</td>\n",
       "    </tr>\n",
       "  </tbody>\n",
       "</table>\n",
       "<p>5 rows × 31 columns</p>\n",
       "</div>"
      ],
      "text/plain": [
       "   mean radius  mean texture  mean perimeter  mean area  mean smoothness  \\\n",
       "0        17.99         10.38          122.80     1001.0          0.11840   \n",
       "1        20.57         17.77          132.90     1326.0          0.08474   \n",
       "2        19.69         21.25          130.00     1203.0          0.10960   \n",
       "3        11.42         20.38           77.58      386.1          0.14250   \n",
       "4        20.29         14.34          135.10     1297.0          0.10030   \n",
       "\n",
       "   mean compactness  mean concavity  mean concave points  mean symmetry  \\\n",
       "0           0.27760          0.3001              0.14710         0.2419   \n",
       "1           0.07864          0.0869              0.07017         0.1812   \n",
       "2           0.15990          0.1974              0.12790         0.2069   \n",
       "3           0.28390          0.2414              0.10520         0.2597   \n",
       "4           0.13280          0.1980              0.10430         0.1809   \n",
       "\n",
       "   mean fractal dimension   ...    worst texture  worst perimeter  worst area  \\\n",
       "0                 0.07871   ...            17.33           184.60      2019.0   \n",
       "1                 0.05667   ...            23.41           158.80      1956.0   \n",
       "2                 0.05999   ...            25.53           152.50      1709.0   \n",
       "3                 0.09744   ...            26.50            98.87       567.7   \n",
       "4                 0.05883   ...            16.67           152.20      1575.0   \n",
       "\n",
       "   worst smoothness  worst compactness  worst concavity  worst concave points  \\\n",
       "0            0.1622             0.6656           0.7119                0.2654   \n",
       "1            0.1238             0.1866           0.2416                0.1860   \n",
       "2            0.1444             0.4245           0.4504                0.2430   \n",
       "3            0.2098             0.8663           0.6869                0.2575   \n",
       "4            0.1374             0.2050           0.4000                0.1625   \n",
       "\n",
       "   worst symmetry  worst fractal dimension  target  \n",
       "0          0.4601                  0.11890       0  \n",
       "1          0.2750                  0.08902       0  \n",
       "2          0.3613                  0.08758       0  \n",
       "3          0.6638                  0.17300       0  \n",
       "4          0.2364                  0.07678       0  \n",
       "\n",
       "[5 rows x 31 columns]"
      ]
     },
     "execution_count": 15,
     "metadata": {},
     "output_type": "execute_result"
    }
   ],
   "source": [
    "df_bc = pd.DataFrame(breast_cancer['data'], columns=breast_cancer['feature_names'])\n",
    "df_bc['target'] = breast_cancer['target'] # target cancer type - malignant/benign (1/0)\n",
    "\n",
    "print(f'Dataset size: {df_bc.shape}')\n",
    "df_bc.head()"
   ]
  },
  {
   "cell_type": "code",
   "execution_count": 12,
   "metadata": {},
   "outputs": [
    {
     "data": {
      "text/plain": [
       "1    62.741652\n",
       "0    37.258348\n",
       "Name: target, dtype: float64"
      ]
     },
     "execution_count": 12,
     "metadata": {},
     "output_type": "execute_result"
    }
   ],
   "source": [
    "df_bc['target'].value_counts() / len(df_bc) * 100"
   ]
  },
  {
   "cell_type": "markdown",
   "metadata": {},
   "source": [
    "This means roughly 62.7% cases are malignant and 37.3% are benign."
   ]
  },
  {
   "cell_type": "code",
   "execution_count": 17,
   "metadata": {},
   "outputs": [
    {
     "name": "stdout",
     "output_type": "stream",
     "text": [
      "Size of train set: (455, 32)\n",
      "Size of test set: (114, 32)\n"
     ]
    }
   ],
   "source": [
    "# Split dataframe into train and test\n",
    "df_train, df_test = train_test_split(df_bc, test_size=0.2, random_state=42, stratify=df_bc['target'])\n",
    "df_train = df_train.reset_index()\n",
    "df_test = df_test.reset_index()\n",
    "print(f'Size of train set: {df_train.shape}')\n",
    "print(f'Size of test set: {df_test.shape}')"
   ]
  },
  {
   "cell_type": "code",
   "execution_count": 18,
   "metadata": {},
   "outputs": [
    {
     "data": {
      "text/plain": [
       "1    62.637363\n",
       "0    37.362637\n",
       "Name: target, dtype: float64"
      ]
     },
     "execution_count": 18,
     "metadata": {},
     "output_type": "execute_result"
    }
   ],
   "source": [
    "# Check distribution of class labels in train set\n",
    "df_train['target'].value_counts() / len(df_train) * 100"
   ]
  },
  {
   "cell_type": "code",
   "execution_count": 19,
   "metadata": {},
   "outputs": [
    {
     "data": {
      "text/plain": [
       "1    63.157895\n",
       "0    36.842105\n",
       "Name: target, dtype: float64"
      ]
     },
     "execution_count": 19,
     "metadata": {},
     "output_type": "execute_result"
    }
   ],
   "source": [
    "# Check distribution of class labels in test set\n",
    "df_test['target'].value_counts() / len(df_test) * 100"
   ]
  },
  {
   "cell_type": "code",
   "execution_count": 22,
   "metadata": {},
   "outputs": [
    {
     "data": {
      "text/html": [
       "<div>\n",
       "<style scoped>\n",
       "    .dataframe tbody tr th:only-of-type {\n",
       "        vertical-align: middle;\n",
       "    }\n",
       "\n",
       "    .dataframe tbody tr th {\n",
       "        vertical-align: top;\n",
       "    }\n",
       "\n",
       "    .dataframe thead th {\n",
       "        text-align: right;\n",
       "    }\n",
       "</style>\n",
       "<table border=\"1\" class=\"dataframe\">\n",
       "  <thead>\n",
       "    <tr style=\"text-align: right;\">\n",
       "      <th></th>\n",
       "      <th>index</th>\n",
       "      <th>mean radius</th>\n",
       "      <th>mean texture</th>\n",
       "      <th>mean perimeter</th>\n",
       "      <th>mean area</th>\n",
       "      <th>mean smoothness</th>\n",
       "      <th>mean compactness</th>\n",
       "      <th>mean concavity</th>\n",
       "      <th>mean concave points</th>\n",
       "      <th>mean symmetry</th>\n",
       "      <th>...</th>\n",
       "      <th>worst texture</th>\n",
       "      <th>worst perimeter</th>\n",
       "      <th>worst area</th>\n",
       "      <th>worst smoothness</th>\n",
       "      <th>worst compactness</th>\n",
       "      <th>worst concavity</th>\n",
       "      <th>worst concave points</th>\n",
       "      <th>worst symmetry</th>\n",
       "      <th>worst fractal dimension</th>\n",
       "      <th>target</th>\n",
       "    </tr>\n",
       "  </thead>\n",
       "  <tbody>\n",
       "    <tr>\n",
       "      <th>count</th>\n",
       "      <td>455.000000</td>\n",
       "      <td>455.000000</td>\n",
       "      <td>455.000000</td>\n",
       "      <td>455.000000</td>\n",
       "      <td>455.000000</td>\n",
       "      <td>455.000000</td>\n",
       "      <td>455.000000</td>\n",
       "      <td>455.000000</td>\n",
       "      <td>455.000000</td>\n",
       "      <td>455.000000</td>\n",
       "      <td>...</td>\n",
       "      <td>455.000000</td>\n",
       "      <td>455.000000</td>\n",
       "      <td>455.000000</td>\n",
       "      <td>455.000000</td>\n",
       "      <td>455.000000</td>\n",
       "      <td>455.000000</td>\n",
       "      <td>455.000000</td>\n",
       "      <td>455.000000</td>\n",
       "      <td>455.000000</td>\n",
       "      <td>455.000000</td>\n",
       "    </tr>\n",
       "    <tr>\n",
       "      <th>mean</th>\n",
       "      <td>276.654945</td>\n",
       "      <td>14.067213</td>\n",
       "      <td>19.247363</td>\n",
       "      <td>91.557407</td>\n",
       "      <td>648.541099</td>\n",
       "      <td>0.096167</td>\n",
       "      <td>0.103869</td>\n",
       "      <td>0.089193</td>\n",
       "      <td>0.048344</td>\n",
       "      <td>0.180618</td>\n",
       "      <td>...</td>\n",
       "      <td>25.647297</td>\n",
       "      <td>106.625297</td>\n",
       "      <td>869.026593</td>\n",
       "      <td>0.132329</td>\n",
       "      <td>0.254329</td>\n",
       "      <td>0.276578</td>\n",
       "      <td>0.113904</td>\n",
       "      <td>0.290865</td>\n",
       "      <td>0.083945</td>\n",
       "      <td>0.626374</td>\n",
       "    </tr>\n",
       "    <tr>\n",
       "      <th>std</th>\n",
       "      <td>164.998497</td>\n",
       "      <td>3.499380</td>\n",
       "      <td>4.405291</td>\n",
       "      <td>24.149231</td>\n",
       "      <td>344.944564</td>\n",
       "      <td>0.013458</td>\n",
       "      <td>0.053522</td>\n",
       "      <td>0.081747</td>\n",
       "      <td>0.038925</td>\n",
       "      <td>0.028074</td>\n",
       "      <td>...</td>\n",
       "      <td>6.225470</td>\n",
       "      <td>33.195053</td>\n",
       "      <td>552.926912</td>\n",
       "      <td>0.022550</td>\n",
       "      <td>0.159882</td>\n",
       "      <td>0.215937</td>\n",
       "      <td>0.066784</td>\n",
       "      <td>0.064624</td>\n",
       "      <td>0.018408</td>\n",
       "      <td>0.484299</td>\n",
       "    </tr>\n",
       "    <tr>\n",
       "      <th>min</th>\n",
       "      <td>0.000000</td>\n",
       "      <td>6.981000</td>\n",
       "      <td>9.710000</td>\n",
       "      <td>43.790000</td>\n",
       "      <td>143.500000</td>\n",
       "      <td>0.062510</td>\n",
       "      <td>0.019380</td>\n",
       "      <td>0.000000</td>\n",
       "      <td>0.000000</td>\n",
       "      <td>0.106000</td>\n",
       "      <td>...</td>\n",
       "      <td>12.020000</td>\n",
       "      <td>50.410000</td>\n",
       "      <td>185.200000</td>\n",
       "      <td>0.071170</td>\n",
       "      <td>0.027290</td>\n",
       "      <td>0.000000</td>\n",
       "      <td>0.000000</td>\n",
       "      <td>0.156500</td>\n",
       "      <td>0.055040</td>\n",
       "      <td>0.000000</td>\n",
       "    </tr>\n",
       "    <tr>\n",
       "      <th>25%</th>\n",
       "      <td>132.500000</td>\n",
       "      <td>11.635000</td>\n",
       "      <td>16.000000</td>\n",
       "      <td>74.720000</td>\n",
       "      <td>415.650000</td>\n",
       "      <td>0.086475</td>\n",
       "      <td>0.063750</td>\n",
       "      <td>0.028010</td>\n",
       "      <td>0.020220</td>\n",
       "      <td>0.161750</td>\n",
       "      <td>...</td>\n",
       "      <td>21.090000</td>\n",
       "      <td>83.715000</td>\n",
       "      <td>513.900000</td>\n",
       "      <td>0.115950</td>\n",
       "      <td>0.145850</td>\n",
       "      <td>0.107900</td>\n",
       "      <td>0.063390</td>\n",
       "      <td>0.249400</td>\n",
       "      <td>0.071835</td>\n",
       "      <td>0.000000</td>\n",
       "    </tr>\n",
       "    <tr>\n",
       "      <th>50%</th>\n",
       "      <td>276.000000</td>\n",
       "      <td>13.270000</td>\n",
       "      <td>18.820000</td>\n",
       "      <td>85.980000</td>\n",
       "      <td>541.800000</td>\n",
       "      <td>0.095660</td>\n",
       "      <td>0.090970</td>\n",
       "      <td>0.059990</td>\n",
       "      <td>0.032630</td>\n",
       "      <td>0.178100</td>\n",
       "      <td>...</td>\n",
       "      <td>25.400000</td>\n",
       "      <td>97.590000</td>\n",
       "      <td>683.400000</td>\n",
       "      <td>0.131400</td>\n",
       "      <td>0.211600</td>\n",
       "      <td>0.229800</td>\n",
       "      <td>0.097220</td>\n",
       "      <td>0.281900</td>\n",
       "      <td>0.079930</td>\n",
       "      <td>1.000000</td>\n",
       "    </tr>\n",
       "    <tr>\n",
       "      <th>75%</th>\n",
       "      <td>418.500000</td>\n",
       "      <td>15.740000</td>\n",
       "      <td>21.710000</td>\n",
       "      <td>103.700000</td>\n",
       "      <td>770.050000</td>\n",
       "      <td>0.104850</td>\n",
       "      <td>0.130100</td>\n",
       "      <td>0.132200</td>\n",
       "      <td>0.073820</td>\n",
       "      <td>0.195300</td>\n",
       "      <td>...</td>\n",
       "      <td>29.370000</td>\n",
       "      <td>124.950000</td>\n",
       "      <td>1033.500000</td>\n",
       "      <td>0.146200</td>\n",
       "      <td>0.336800</td>\n",
       "      <td>0.385300</td>\n",
       "      <td>0.162500</td>\n",
       "      <td>0.320100</td>\n",
       "      <td>0.092070</td>\n",
       "      <td>1.000000</td>\n",
       "    </tr>\n",
       "    <tr>\n",
       "      <th>max</th>\n",
       "      <td>566.000000</td>\n",
       "      <td>28.110000</td>\n",
       "      <td>39.280000</td>\n",
       "      <td>188.500000</td>\n",
       "      <td>2499.000000</td>\n",
       "      <td>0.144700</td>\n",
       "      <td>0.345400</td>\n",
       "      <td>0.426800</td>\n",
       "      <td>0.201200</td>\n",
       "      <td>0.304000</td>\n",
       "      <td>...</td>\n",
       "      <td>49.540000</td>\n",
       "      <td>229.300000</td>\n",
       "      <td>3432.000000</td>\n",
       "      <td>0.218400</td>\n",
       "      <td>1.058000</td>\n",
       "      <td>1.252000</td>\n",
       "      <td>0.291000</td>\n",
       "      <td>0.663800</td>\n",
       "      <td>0.207500</td>\n",
       "      <td>1.000000</td>\n",
       "    </tr>\n",
       "  </tbody>\n",
       "</table>\n",
       "<p>8 rows × 32 columns</p>\n",
       "</div>"
      ],
      "text/plain": [
       "            index  mean radius  mean texture  mean perimeter    mean area  \\\n",
       "count  455.000000   455.000000    455.000000      455.000000   455.000000   \n",
       "mean   276.654945    14.067213     19.247363       91.557407   648.541099   \n",
       "std    164.998497     3.499380      4.405291       24.149231   344.944564   \n",
       "min      0.000000     6.981000      9.710000       43.790000   143.500000   \n",
       "25%    132.500000    11.635000     16.000000       74.720000   415.650000   \n",
       "50%    276.000000    13.270000     18.820000       85.980000   541.800000   \n",
       "75%    418.500000    15.740000     21.710000      103.700000   770.050000   \n",
       "max    566.000000    28.110000     39.280000      188.500000  2499.000000   \n",
       "\n",
       "       mean smoothness  mean compactness  mean concavity  mean concave points  \\\n",
       "count       455.000000        455.000000      455.000000           455.000000   \n",
       "mean          0.096167          0.103869        0.089193             0.048344   \n",
       "std           0.013458          0.053522        0.081747             0.038925   \n",
       "min           0.062510          0.019380        0.000000             0.000000   \n",
       "25%           0.086475          0.063750        0.028010             0.020220   \n",
       "50%           0.095660          0.090970        0.059990             0.032630   \n",
       "75%           0.104850          0.130100        0.132200             0.073820   \n",
       "max           0.144700          0.345400        0.426800             0.201200   \n",
       "\n",
       "       mean symmetry     ...      worst texture  worst perimeter   worst area  \\\n",
       "count     455.000000     ...         455.000000       455.000000   455.000000   \n",
       "mean        0.180618     ...          25.647297       106.625297   869.026593   \n",
       "std         0.028074     ...           6.225470        33.195053   552.926912   \n",
       "min         0.106000     ...          12.020000        50.410000   185.200000   \n",
       "25%         0.161750     ...          21.090000        83.715000   513.900000   \n",
       "50%         0.178100     ...          25.400000        97.590000   683.400000   \n",
       "75%         0.195300     ...          29.370000       124.950000  1033.500000   \n",
       "max         0.304000     ...          49.540000       229.300000  3432.000000   \n",
       "\n",
       "       worst smoothness  worst compactness  worst concavity  \\\n",
       "count        455.000000         455.000000       455.000000   \n",
       "mean           0.132329           0.254329         0.276578   \n",
       "std            0.022550           0.159882         0.215937   \n",
       "min            0.071170           0.027290         0.000000   \n",
       "25%            0.115950           0.145850         0.107900   \n",
       "50%            0.131400           0.211600         0.229800   \n",
       "75%            0.146200           0.336800         0.385300   \n",
       "max            0.218400           1.058000         1.252000   \n",
       "\n",
       "       worst concave points  worst symmetry  worst fractal dimension  \\\n",
       "count            455.000000      455.000000               455.000000   \n",
       "mean               0.113904        0.290865                 0.083945   \n",
       "std                0.066784        0.064624                 0.018408   \n",
       "min                0.000000        0.156500                 0.055040   \n",
       "25%                0.063390        0.249400                 0.071835   \n",
       "50%                0.097220        0.281900                 0.079930   \n",
       "75%                0.162500        0.320100                 0.092070   \n",
       "max                0.291000        0.663800                 0.207500   \n",
       "\n",
       "           target  \n",
       "count  455.000000  \n",
       "mean     0.626374  \n",
       "std      0.484299  \n",
       "min      0.000000  \n",
       "25%      0.000000  \n",
       "50%      1.000000  \n",
       "75%      1.000000  \n",
       "max      1.000000  \n",
       "\n",
       "[8 rows x 32 columns]"
      ]
     },
     "execution_count": 22,
     "metadata": {},
     "output_type": "execute_result"
    }
   ],
   "source": [
    "# Distribution of train\n",
    "df_train.describe()"
   ]
  },
  {
   "cell_type": "code",
   "execution_count": 23,
   "metadata": {},
   "outputs": [
    {
     "data": {
      "text/html": [
       "<div>\n",
       "<style scoped>\n",
       "    .dataframe tbody tr th:only-of-type {\n",
       "        vertical-align: middle;\n",
       "    }\n",
       "\n",
       "    .dataframe tbody tr th {\n",
       "        vertical-align: top;\n",
       "    }\n",
       "\n",
       "    .dataframe thead th {\n",
       "        text-align: right;\n",
       "    }\n",
       "</style>\n",
       "<table border=\"1\" class=\"dataframe\">\n",
       "  <thead>\n",
       "    <tr style=\"text-align: right;\">\n",
       "      <th></th>\n",
       "      <th>index</th>\n",
       "      <th>mean radius</th>\n",
       "      <th>mean texture</th>\n",
       "      <th>mean perimeter</th>\n",
       "      <th>mean area</th>\n",
       "      <th>mean smoothness</th>\n",
       "      <th>mean compactness</th>\n",
       "      <th>mean concavity</th>\n",
       "      <th>mean concave points</th>\n",
       "      <th>mean symmetry</th>\n",
       "      <th>...</th>\n",
       "      <th>worst texture</th>\n",
       "      <th>worst perimeter</th>\n",
       "      <th>worst area</th>\n",
       "      <th>worst smoothness</th>\n",
       "      <th>worst compactness</th>\n",
       "      <th>worst concavity</th>\n",
       "      <th>worst concave points</th>\n",
       "      <th>worst symmetry</th>\n",
       "      <th>worst fractal dimension</th>\n",
       "      <th>target</th>\n",
       "    </tr>\n",
       "  </thead>\n",
       "  <tbody>\n",
       "    <tr>\n",
       "      <th>count</th>\n",
       "      <td>114.000000</td>\n",
       "      <td>114.000000</td>\n",
       "      <td>114.000000</td>\n",
       "      <td>114.000000</td>\n",
       "      <td>114.000000</td>\n",
       "      <td>114.000000</td>\n",
       "      <td>114.000000</td>\n",
       "      <td>114.000000</td>\n",
       "      <td>114.000000</td>\n",
       "      <td>114.000000</td>\n",
       "      <td>...</td>\n",
       "      <td>114.000000</td>\n",
       "      <td>114.000000</td>\n",
       "      <td>114.000000</td>\n",
       "      <td>114.000000</td>\n",
       "      <td>114.000000</td>\n",
       "      <td>114.000000</td>\n",
       "      <td>114.000000</td>\n",
       "      <td>114.000000</td>\n",
       "      <td>114.000000</td>\n",
       "      <td>114.000000</td>\n",
       "    </tr>\n",
       "    <tr>\n",
       "      <th>mean</th>\n",
       "      <td>313.315789</td>\n",
       "      <td>14.367079</td>\n",
       "      <td>19.458421</td>\n",
       "      <td>93.611930</td>\n",
       "      <td>680.225439</td>\n",
       "      <td>0.097130</td>\n",
       "      <td>0.106225</td>\n",
       "      <td>0.087227</td>\n",
       "      <td>0.051215</td>\n",
       "      <td>0.183332</td>\n",
       "      <td>...</td>\n",
       "      <td>25.796667</td>\n",
       "      <td>109.799298</td>\n",
       "      <td>926.707895</td>\n",
       "      <td>0.132527</td>\n",
       "      <td>0.254011</td>\n",
       "      <td>0.254668</td>\n",
       "      <td>0.117408</td>\n",
       "      <td>0.286924</td>\n",
       "      <td>0.083951</td>\n",
       "      <td>0.631579</td>\n",
       "    </tr>\n",
       "    <tr>\n",
       "      <th>std</th>\n",
       "      <td>159.345304</td>\n",
       "      <td>3.626623</td>\n",
       "      <td>3.870388</td>\n",
       "      <td>24.928082</td>\n",
       "      <td>379.002396</td>\n",
       "      <td>0.016305</td>\n",
       "      <td>0.050065</td>\n",
       "      <td>0.071367</td>\n",
       "      <td>0.038397</td>\n",
       "      <td>0.024598</td>\n",
       "      <td>...</td>\n",
       "      <td>5.844268</td>\n",
       "      <td>35.218674</td>\n",
       "      <td>631.217286</td>\n",
       "      <td>0.024028</td>\n",
       "      <td>0.147410</td>\n",
       "      <td>0.176207</td>\n",
       "      <td>0.061556</td>\n",
       "      <td>0.049475</td>\n",
       "      <td>0.016683</td>\n",
       "      <td>0.484506</td>\n",
       "    </tr>\n",
       "    <tr>\n",
       "      <th>min</th>\n",
       "      <td>1.000000</td>\n",
       "      <td>7.760000</td>\n",
       "      <td>11.970000</td>\n",
       "      <td>47.920000</td>\n",
       "      <td>181.000000</td>\n",
       "      <td>0.052630</td>\n",
       "      <td>0.031160</td>\n",
       "      <td>0.000000</td>\n",
       "      <td>0.000000</td>\n",
       "      <td>0.135300</td>\n",
       "      <td>...</td>\n",
       "      <td>14.100000</td>\n",
       "      <td>59.160000</td>\n",
       "      <td>268.600000</td>\n",
       "      <td>0.088640</td>\n",
       "      <td>0.052320</td>\n",
       "      <td>0.000000</td>\n",
       "      <td>0.000000</td>\n",
       "      <td>0.199900</td>\n",
       "      <td>0.059330</td>\n",
       "      <td>0.000000</td>\n",
       "    </tr>\n",
       "    <tr>\n",
       "      <th>25%</th>\n",
       "      <td>200.750000</td>\n",
       "      <td>11.890000</td>\n",
       "      <td>16.685000</td>\n",
       "      <td>76.375000</td>\n",
       "      <td>434.250000</td>\n",
       "      <td>0.085377</td>\n",
       "      <td>0.067132</td>\n",
       "      <td>0.039090</td>\n",
       "      <td>0.022295</td>\n",
       "      <td>0.164250</td>\n",
       "      <td>...</td>\n",
       "      <td>21.022500</td>\n",
       "      <td>85.075000</td>\n",
       "      <td>515.950000</td>\n",
       "      <td>0.120025</td>\n",
       "      <td>0.148600</td>\n",
       "      <td>0.121400</td>\n",
       "      <td>0.073853</td>\n",
       "      <td>0.253150</td>\n",
       "      <td>0.071180</td>\n",
       "      <td>0.000000</td>\n",
       "    </tr>\n",
       "    <tr>\n",
       "      <th>50%</th>\n",
       "      <td>307.500000</td>\n",
       "      <td>13.680000</td>\n",
       "      <td>19.025000</td>\n",
       "      <td>87.910000</td>\n",
       "      <td>571.450000</td>\n",
       "      <td>0.096870</td>\n",
       "      <td>0.097620</td>\n",
       "      <td>0.066940</td>\n",
       "      <td>0.041650</td>\n",
       "      <td>0.184350</td>\n",
       "      <td>...</td>\n",
       "      <td>25.430000</td>\n",
       "      <td>98.790000</td>\n",
       "      <td>693.300000</td>\n",
       "      <td>0.131200</td>\n",
       "      <td>0.217700</td>\n",
       "      <td>0.210650</td>\n",
       "      <td>0.109550</td>\n",
       "      <td>0.282250</td>\n",
       "      <td>0.080535</td>\n",
       "      <td>1.000000</td>\n",
       "    </tr>\n",
       "    <tr>\n",
       "      <th>75%</th>\n",
       "      <td>450.250000</td>\n",
       "      <td>16.245000</td>\n",
       "      <td>21.922500</td>\n",
       "      <td>106.525000</td>\n",
       "      <td>811.050000</td>\n",
       "      <td>0.107500</td>\n",
       "      <td>0.131525</td>\n",
       "      <td>0.117375</td>\n",
       "      <td>0.073072</td>\n",
       "      <td>0.197375</td>\n",
       "      <td>...</td>\n",
       "      <td>30.377500</td>\n",
       "      <td>128.425000</td>\n",
       "      <td>1145.000000</td>\n",
       "      <td>0.145450</td>\n",
       "      <td>0.342350</td>\n",
       "      <td>0.375800</td>\n",
       "      <td>0.157000</td>\n",
       "      <td>0.307475</td>\n",
       "      <td>0.092165</td>\n",
       "      <td>1.000000</td>\n",
       "    </tr>\n",
       "    <tr>\n",
       "      <th>max</th>\n",
       "      <td>568.000000</td>\n",
       "      <td>27.420000</td>\n",
       "      <td>29.330000</td>\n",
       "      <td>186.900000</td>\n",
       "      <td>2501.000000</td>\n",
       "      <td>0.163400</td>\n",
       "      <td>0.277000</td>\n",
       "      <td>0.363500</td>\n",
       "      <td>0.187800</td>\n",
       "      <td>0.259500</td>\n",
       "      <td>...</td>\n",
       "      <td>41.850000</td>\n",
       "      <td>251.200000</td>\n",
       "      <td>4254.000000</td>\n",
       "      <td>0.222600</td>\n",
       "      <td>0.868100</td>\n",
       "      <td>0.938700</td>\n",
       "      <td>0.268800</td>\n",
       "      <td>0.475300</td>\n",
       "      <td>0.143100</td>\n",
       "      <td>1.000000</td>\n",
       "    </tr>\n",
       "  </tbody>\n",
       "</table>\n",
       "<p>8 rows × 32 columns</p>\n",
       "</div>"
      ],
      "text/plain": [
       "            index  mean radius  mean texture  mean perimeter    mean area  \\\n",
       "count  114.000000   114.000000    114.000000      114.000000   114.000000   \n",
       "mean   313.315789    14.367079     19.458421       93.611930   680.225439   \n",
       "std    159.345304     3.626623      3.870388       24.928082   379.002396   \n",
       "min      1.000000     7.760000     11.970000       47.920000   181.000000   \n",
       "25%    200.750000    11.890000     16.685000       76.375000   434.250000   \n",
       "50%    307.500000    13.680000     19.025000       87.910000   571.450000   \n",
       "75%    450.250000    16.245000     21.922500      106.525000   811.050000   \n",
       "max    568.000000    27.420000     29.330000      186.900000  2501.000000   \n",
       "\n",
       "       mean smoothness  mean compactness  mean concavity  mean concave points  \\\n",
       "count       114.000000        114.000000      114.000000           114.000000   \n",
       "mean          0.097130          0.106225        0.087227             0.051215   \n",
       "std           0.016305          0.050065        0.071367             0.038397   \n",
       "min           0.052630          0.031160        0.000000             0.000000   \n",
       "25%           0.085377          0.067132        0.039090             0.022295   \n",
       "50%           0.096870          0.097620        0.066940             0.041650   \n",
       "75%           0.107500          0.131525        0.117375             0.073072   \n",
       "max           0.163400          0.277000        0.363500             0.187800   \n",
       "\n",
       "       mean symmetry     ...      worst texture  worst perimeter   worst area  \\\n",
       "count     114.000000     ...         114.000000       114.000000   114.000000   \n",
       "mean        0.183332     ...          25.796667       109.799298   926.707895   \n",
       "std         0.024598     ...           5.844268        35.218674   631.217286   \n",
       "min         0.135300     ...          14.100000        59.160000   268.600000   \n",
       "25%         0.164250     ...          21.022500        85.075000   515.950000   \n",
       "50%         0.184350     ...          25.430000        98.790000   693.300000   \n",
       "75%         0.197375     ...          30.377500       128.425000  1145.000000   \n",
       "max         0.259500     ...          41.850000       251.200000  4254.000000   \n",
       "\n",
       "       worst smoothness  worst compactness  worst concavity  \\\n",
       "count        114.000000         114.000000       114.000000   \n",
       "mean           0.132527           0.254011         0.254668   \n",
       "std            0.024028           0.147410         0.176207   \n",
       "min            0.088640           0.052320         0.000000   \n",
       "25%            0.120025           0.148600         0.121400   \n",
       "50%            0.131200           0.217700         0.210650   \n",
       "75%            0.145450           0.342350         0.375800   \n",
       "max            0.222600           0.868100         0.938700   \n",
       "\n",
       "       worst concave points  worst symmetry  worst fractal dimension  \\\n",
       "count            114.000000      114.000000               114.000000   \n",
       "mean               0.117408        0.286924                 0.083951   \n",
       "std                0.061556        0.049475                 0.016683   \n",
       "min                0.000000        0.199900                 0.059330   \n",
       "25%                0.073853        0.253150                 0.071180   \n",
       "50%                0.109550        0.282250                 0.080535   \n",
       "75%                0.157000        0.307475                 0.092165   \n",
       "max                0.268800        0.475300                 0.143100   \n",
       "\n",
       "           target  \n",
       "count  114.000000  \n",
       "mean     0.631579  \n",
       "std      0.484506  \n",
       "min      0.000000  \n",
       "25%      0.000000  \n",
       "50%      1.000000  \n",
       "75%      1.000000  \n",
       "max      1.000000  \n",
       "\n",
       "[8 rows x 32 columns]"
      ]
     },
     "execution_count": 23,
     "metadata": {},
     "output_type": "execute_result"
    }
   ],
   "source": [
    "# Distribution of train\n",
    "df_test.describe()"
   ]
  },
  {
   "cell_type": "markdown",
   "metadata": {},
   "source": [
    "# Baseline Models\n",
    "\n",
    "1. Random classifier\n",
    "2. Majority class classifier"
   ]
  },
  {
   "cell_type": "code",
   "execution_count": 147,
   "metadata": {},
   "outputs": [],
   "source": [
    "random_cls_proba = [random.random() for _ in range(len(df_test))]"
   ]
  },
  {
   "cell_type": "code",
   "execution_count": 148,
   "metadata": {},
   "outputs": [],
   "source": [
    "majority_class = df_train['target'].value_counts().index[0]"
   ]
  },
  {
   "cell_type": "code",
   "execution_count": 149,
   "metadata": {},
   "outputs": [],
   "source": [
    "# Augment test dataframe with baseline model results\n",
    "df_test['baseline_1_proba'] = random_cls_proba\n",
    "df_test['baseline_1'] = df_test['baseline_1_proba'].apply(lambda x: 1 if x > 0.5 else 0)\n",
    "df_test['baseline_2'] = majority_class"
   ]
  },
  {
   "cell_type": "markdown",
   "metadata": {},
   "source": [
    "# Random Forest Classifier"
   ]
  },
  {
   "cell_type": "code",
   "execution_count": 110,
   "metadata": {},
   "outputs": [
    {
     "name": "stdout",
     "output_type": "stream",
     "text": [
      "Number of features: 30\n"
     ]
    }
   ],
   "source": [
    "print(f\"Number of features: {len(breast_cancer['feature_names'])}\")"
   ]
  },
  {
   "cell_type": "code",
   "execution_count": 111,
   "metadata": {},
   "outputs": [],
   "source": [
    "X_train = df_train[breast_cancer['feature_names']]\n",
    "X_test = df_test[breast_cancer['feature_names']]\n",
    "y_train = df_train[['target']].values"
   ]
  },
  {
   "cell_type": "code",
   "execution_count": 125,
   "metadata": {},
   "outputs": [
    {
     "name": "stdout",
     "output_type": "stream",
     "text": [
      "Fitting 5 folds for each of 11 candidates, totalling 55 fits\n"
     ]
    },
    {
     "name": "stderr",
     "output_type": "stream",
     "text": [
      "[Parallel(n_jobs=4)]: Done  10 tasks      | elapsed:   18.4s\n",
      "[Parallel(n_jobs=4)]: Done  55 out of  55 | elapsed:  1.4min finished\n",
      "C:\\Users\\ajthampi\\AppData\\Local\\Continuum\\anaconda3\\lib\\site-packages\\sklearn\\pipeline.py:250: DataConversionWarning: A column-vector y was passed when a 1d array was expected. Please change the shape of y to (n_samples,), for example using ravel().\n",
      "  self._final_estimator.fit(Xt, y, **fit_params)\n"
     ]
    },
    {
     "data": {
      "text/plain": [
       "GridSearchCV(cv=5, error_score='raise',\n",
       "       estimator=Pipeline(memory=None,\n",
       "     steps=[('scaler', StandardScaler(copy=True, with_mean=True, with_std=True)), ('pca', PCA(copy=True, iterated_power='auto', n_components=None, random_state=42,\n",
       "  svd_solver='auto', tol=0.0, whiten=False)), ('rf_cls', RandomForestClassifier(bootstrap=True, class_weight=None, criterion='gini',\n",
       "        ...stimators=10, n_jobs=4,\n",
       "            oob_score=False, random_state=42, verbose=0, warm_start=False))]),\n",
       "       fit_params=None, iid=True, n_jobs=4,\n",
       "       param_grid={'pca__n_components': [8], 'rf_cls__n_estimators': array([ 950,  960,  970,  980,  990, 1000, 1010, 1020, 1030, 1040, 1050]), 'rf_cls__criterion': ['entropy'], 'rf_cls__max_depth': [None]},\n",
       "       pre_dispatch='2*n_jobs', refit=True, return_train_score='warn',\n",
       "       scoring=None, verbose=5)"
      ]
     },
     "execution_count": 125,
     "metadata": {},
     "output_type": "execute_result"
    }
   ],
   "source": [
    "# Perform grid search to determine 'optimum' hyperparameters\n",
    "model_pipeline = Pipeline(steps=[('scaler', StandardScaler()),\n",
    "                                 ('pca', PCA(random_state=42)), \n",
    "                                 ('rf_cls', RandomForestClassifier(random_state=42, n_jobs=4))])\n",
    "\n",
    "# n_components = [2, 4, 8, 10, 13] # round 1\n",
    "# n_estimators = [10, 50, 100, 1000] # round 1\n",
    "# criteria = ['gini', 'entropy'] # round 1\n",
    "# max_depths = [None, 10, 100, 1000] # round 1\n",
    "\n",
    "# n_components = [8, 9, ] # round 2\n",
    "# n_estimators = np.arange(500, 1501, 100) # round 2\n",
    "# criteria = ['entropy', ] # round 2\n",
    "# max_depths = [None, ] # round 2\n",
    "\n",
    "n_components = [8, ] # round 3\n",
    "n_estimators = np.arange(950, 1051, 10) # round 3\n",
    "criteria = ['entropy', ] # round 3\n",
    "max_depths = [None, ] # round 3\n",
    "\n",
    "estimator  = GridSearchCV(model_pipeline, cv=5, n_jobs=4, verbose=5, param_grid=dict(\n",
    "                                        pca__n_components=n_components,\n",
    "                                        rf_cls__n_estimators=n_estimators,\n",
    "                                        rf_cls__criterion=criteria,\n",
    "                                        rf_cls__max_depth=max_depths))\n",
    "estimator.fit(X_train, y_train)"
   ]
  },
  {
   "cell_type": "code",
   "execution_count": 126,
   "metadata": {},
   "outputs": [
    {
     "data": {
      "text/plain": [
       "{'pca__n_components': 8,\n",
       " 'rf_cls__criterion': 'entropy',\n",
       " 'rf_cls__max_depth': None,\n",
       " 'rf_cls__n_estimators': 970}"
      ]
     },
     "execution_count": 126,
     "metadata": {},
     "output_type": "execute_result"
    }
   ],
   "source": [
    "# round 1: {'pca__n_components': 8, 'rf_cls__criterion': 'entropy', 'rf_cls__max_depth': None, 'rf_cls__n_estimators': 1000}\n",
    "# round 2: {'pca__n_components': 8, 'rf_cls__criterion': 'entropy', 'rf_cls__max_depth': None, 'rf_cls__n_estimators': 1000}\n",
    "# round 3: {'pca__n_components': 8, 'rf_cls__criterion': 'entropy', 'rf_cls__max_depth': None, 'rf_cls__n_estimators': 970}\n",
    "estimator.best_params_ "
   ]
  },
  {
   "cell_type": "code",
   "execution_count": 127,
   "metadata": {},
   "outputs": [],
   "source": [
    "best_model = estimator.best_estimator_"
   ]
  },
  {
   "cell_type": "code",
   "execution_count": 134,
   "metadata": {},
   "outputs": [],
   "source": [
    "y_test = best_model.predict(X_test)\n",
    "y_proba_test = best_model.predict_proba(X_test)"
   ]
  },
  {
   "cell_type": "code",
   "execution_count": 137,
   "metadata": {},
   "outputs": [],
   "source": [
    "df_test['rf_cls'] = y_test\n",
    "df_test['rf_cls_proba'] = y_proba_test[:,1]"
   ]
  },
  {
   "cell_type": "markdown",
   "metadata": {},
   "source": [
    "# Evaluate Model Performance"
   ]
  },
  {
   "cell_type": "code",
   "execution_count": 159,
   "metadata": {},
   "outputs": [],
   "source": [
    "def normalise_cm(cm):\n",
    "    return cm.astype('float') / cm.sum(axis=1)[:, np.newaxis]"
   ]
  },
  {
   "cell_type": "code",
   "execution_count": 214,
   "metadata": {},
   "outputs": [],
   "source": [
    "def plot_confusion_matrix(cm, classes, filename,\n",
    "                          normalize=False,\n",
    "                          title='Confusion matrix',\n",
    "                          cmap=plt.cm.Blues):\n",
    "    \"\"\"\n",
    "    This function prints and plots the confusion matrix.\n",
    "    Normalization can be applied by setting `normalize=True`.\n",
    "    \"\"\"\n",
    "    if normalize:\n",
    "        cm = normalise_cm(cm)\n",
    "        print(\"Normalized confusion matrix\")\n",
    "    else:\n",
    "        print('Confusion matrix, without normalization')\n",
    "\n",
    "    print(cm)\n",
    "\n",
    "    plt.imshow(cm, interpolation='nearest', cmap=cmap)\n",
    "    plt.title(title)\n",
    "    plt.colorbar()\n",
    "    tick_marks = np.arange(len(classes))\n",
    "    plt.xticks(tick_marks, classes)\n",
    "    plt.yticks(tick_marks, classes)\n",
    "\n",
    "    fmt = '.2f' if normalize else 'd'\n",
    "    thresh = cm.max() / 2.\n",
    "    for i, j in itertools.product(range(cm.shape[0]), range(cm.shape[1])):\n",
    "        plt.text(j, i, format(cm[i, j], fmt),\n",
    "                 horizontalalignment=\"center\",\n",
    "                 color=\"black\")\n",
    "\n",
    "    plt.tight_layout()\n",
    "    plt.ylabel('True label')\n",
    "    plt.xlabel('Predicted label')\n",
    "    plt.savefig(filename, dpi=200, bbox_inches='tight')"
   ]
  },
  {
   "cell_type": "code",
   "execution_count": 161,
   "metadata": {},
   "outputs": [],
   "source": [
    "b1_cm = confusion_matrix(df_test['target'], df_test['baseline_1'])\n",
    "b2_cm = confusion_matrix(df_test['target'], df_test['baseline_2'])\n",
    "rf_cm = confusion_matrix(df_test['target'], df_test['rf_cls'])\n",
    "b1_cm_norm = normalise_cm(b1_cm)\n",
    "b2_cm_norm = normalise_cm(b2_cm)\n",
    "rf_cm_norm = normalise_cm(rf_cm)\n",
    "np.set_printoptions(precision=2)"
   ]
  },
  {
   "cell_type": "code",
   "execution_count": 215,
   "metadata": {},
   "outputs": [
    {
     "name": "stdout",
     "output_type": "stream",
     "text": [
      "Confusion matrix, without normalization\n",
      "[[ 1 -2]\n",
      " [-4  1]]\n"
     ]
    },
    {
     "data": {
      "image/png": "[encoded data removed]",
      "text/plain": [
       "<Figure size 432x288 with 2 Axes>"
      ]
     },
     "metadata": {
      "image/png": {
       "height": 296,
       "width": 330
      }
     },
     "output_type": "display_data"
    }
   ],
   "source": [
    "value_cost_matrix = np.array([[1, -2], [-4, 1]])\n",
    "plot_confusion_matrix(value_cost_matrix, classes=['B', 'M'], \n",
    "                      filename='images/value_cost_matrix.png',\n",
    "                      title='Value/Cost Matrix',\n",
    "                      cmap=plt.cm.autumn)"
   ]
  },
  {
   "cell_type": "code",
   "execution_count": 216,
   "metadata": {},
   "outputs": [
    {
     "name": "stdout",
     "output_type": "stream",
     "text": [
      "Normalized confusion matrix\n",
      "[[0.45 0.55]\n",
      " [0.54 0.46]]\n"
     ]
    },
    {
     "data": {
      "image/png": "[encoded data removed]",
      "text/plain": [
       "<Figure size 432x288 with 2 Axes>"
      ]
     },
     "metadata": {
      "image/png": {
       "height": 297,
       "width": 326
      }
     },
     "output_type": "display_data"
    }
   ],
   "source": [
    "plot_confusion_matrix(b1_cm, classes=['B', 'M'], \n",
    "                      filename='images/baseline_1_cm.png',\n",
    "                      title=f'Baseline 1\\n(Total Samples = {len(df_test)})', \n",
    "                      normalize=True)"
   ]
  },
  {
   "cell_type": "code",
   "execution_count": 217,
   "metadata": {},
   "outputs": [
    {
     "name": "stdout",
     "output_type": "stream",
     "text": [
      "Normalized confusion matrix\n",
      "[[0. 1.]\n",
      " [0. 1.]]\n"
     ]
    },
    {
     "data": {
      "image/png": "[encoded data removed]",
      "text/plain": [
       "<Figure size 432x288 with 2 Axes>"
      ]
     },
     "metadata": {
      "image/png": {
       "height": 297,
       "width": 321
      }
     },
     "output_type": "display_data"
    }
   ],
   "source": [
    "plot_confusion_matrix(b2_cm, classes=['B', 'M'], \n",
    "                      filename='images/baseline_2_cm.png',\n",
    "                      title=f'Baseline 2\\n(Total Samples = {len(df_test)})', \n",
    "                      normalize=True)"
   ]
  },
  {
   "cell_type": "code",
   "execution_count": 218,
   "metadata": {},
   "outputs": [
    {
     "name": "stdout",
     "output_type": "stream",
     "text": [
      "Normalized confusion matrix\n",
      "[[0.9  0.1 ]\n",
      " [0.07 0.93]]\n"
     ]
    },
    {
     "data": {
      "image/png": "[encoded data removed]",
      "text/plain": [
       "<Figure size 432x288 with 2 Axes>"
      ]
     },
     "metadata": {
      "image/png": {
       "height": 297,
       "width": 321
      }
     },
     "output_type": "display_data"
    }
   ],
   "source": [
    "plot_confusion_matrix(rf_cm, classes=['B', 'M'], \n",
    "                      filename='images/rf_cls_cm.png',\n",
    "                      title=f'RF Classifier\\n(Total Samples = {len(df_test)})', \n",
    "                      normalize=True)"
   ]
  },
  {
   "cell_type": "code",
   "execution_count": 302,
   "metadata": {},
   "outputs": [
    {
     "data": {
      "image/png": "[encoded data removed]",
      "text/plain": [
       "<Figure size 432x288 with 1 Axes>"
      ]
     },
     "metadata": {
      "image/png": {
       "height": 263,
       "width": 381
      }
     },
     "output_type": "display_data"
    }
   ],
   "source": [
    "# Function to compute value given unnormalised confusion matrix (cm) and value-cost matrix (vcm)\n",
    "compute_value = lambda cm, vcm: normalise_cm(cm).flatten().dot(vcm.flatten())\n",
    "\n",
    "b1_value = compute_value(b1_cm, value_cost_matrix)\n",
    "b2_value = compute_value(b2_cm, value_cost_matrix)\n",
    "rf_value = compute_value(rf_cm, value_cost_matrix)\n",
    "\n",
    "f, ax = plt.subplots()\n",
    "def autolabel(rect, color='blue'):\n",
    "    height = rect.get_height()\n",
    "    ax.text(rect.get_x() + rect.get_width()/2., 1.05*height,\n",
    "            '%.2f' % height,\n",
    "            ha='center', va='bottom', color=color, fontweight='bold')\n",
    "\n",
    "x = [0, 0.3, 0.6]\n",
    "y = [b1_value, b2_value, rf_value]\n",
    "rect_b1, rect_b2, rect_rf = ax.bar(x, y, alpha=0.5, width=0.2)\n",
    "rect_b1.set_facecolor('r')\n",
    "rect_b2.set_facecolor('g')\n",
    "rect_rf.set_facecolor('b')\n",
    "\n",
    "autolabel(rect_b1, color='red')\n",
    "autolabel(rect_b2, color='red')\n",
    "autolabel(rect_rf, color='blue')\n",
    "ax.set_ylim([-3, 2])\n",
    "\n",
    "ax.set_xticks(x)\n",
    "ax.set_xticklabels(['Baseline 1', 'Baseline 2', 'RF Classifier'])\n",
    "ax.grid(True)\n",
    "ax.set_ylabel('Cost / Value')\n",
    "ax.set_title('Value of Models')\n",
    "f.savefig('images/value_cost_models.png', dpi=200, bbox_inches='tight');"
   ]
  },
  {
   "cell_type": "code",
   "execution_count": 219,
   "metadata": {},
   "outputs": [
    {
     "data": {
      "image/png": "[encoded data removed]",
      "text/plain": [
       "<Figure size 432x288 with 1 Axes>"
      ]
     },
     "metadata": {
      "image/png": {
       "height": 277,
       "width": 384
      }
     },
     "output_type": "display_data"
    }
   ],
   "source": [
    "b1_fpr, b1_tpr, b1_roc_th = roc_curve(df_test['target'], df_test['baseline_1_proba'])\n",
    "b2_fpr, b2_tpr, b2_roc_th = roc_curve(df_test['target'], df_test['baseline_2'])\n",
    "rf_fpr, rf_tpr, rf_roc_th = roc_curve(df_test['target'], df_test['rf_cls_proba'])\n",
    "f, ax = plt.subplots()\n",
    "ax.plot(b1_fpr, b1_tpr, 'r-', alpha=0.5, label='Baseline 1 (AUC = %.2f)' % auc(b1_fpr, b1_tpr))\n",
    "ax.plot(b2_fpr, b2_tpr, 'g-', alpha=0.5, label='Baseline 2 (AUC = %.2f)' % auc(b2_fpr, b2_tpr))\n",
    "ax.plot(rf_fpr, rf_tpr, 'b-', alpha=0.5, label='RF Classifier (AUC = %.2f)' % auc(rf_fpr, rf_tpr))\n",
    "ax.grid(True)\n",
    "ax.set_xlabel('False Positive Rate')\n",
    "ax.set_ylabel('True Positive Rate')\n",
    "ax.set_title('ROC Curve')\n",
    "ax.legend()\n",
    "f.savefig('images/roc_auc.png', dpi=200, bbox_inches='tight');"
   ]
  },
  {
   "cell_type": "code",
   "execution_count": 221,
   "metadata": {},
   "outputs": [
    {
     "data": {
      "image/png": "[encoded data removed]",
      "text/plain": [
       "<Figure size 432x288 with 1 Axes>"
      ]
     },
     "metadata": {
      "image/png": {
       "height": 277,
       "width": 391
      }
     },
     "output_type": "display_data"
    }
   ],
   "source": [
    "b1_p, b1_r, b1_pr_th = precision_recall_curve(df_test['target'], df_test['baseline_1_proba'])\n",
    "b1_ap = average_precision_score(df_test['target'], df_test['baseline_1_proba'])\n",
    "b2_p, b2_r, b2_pr_th = precision_recall_curve(df_test['target'], df_test['baseline_2'])\n",
    "b2_ap = average_precision_score(df_test['target'], df_test['baseline_2'])\n",
    "rf_p, rf_r, rf_pr_th = precision_recall_curve(df_test['target'], df_test['rf_cls_proba'])\n",
    "rf_ap = average_precision_score(df_test['target'], df_test['rf_cls_proba'])\n",
    "f, ax = plt.subplots()\n",
    "ax.step(b1_r, b1_p, 'r-', alpha=0.5, label='Baseline 1 (AP = %.2f)' % b1_ap, where='post')\n",
    "ax.step(b2_r, b2_p, 'g-', alpha=0.5, label='Baseline 2 (AP = %.2f)' % b2_ap, where='post')\n",
    "ax.step(rf_r, rf_p, 'b-', alpha=0.5, label='RF Classifier (AP = %.2f)' % rf_ap, where='post')\n",
    "ax.grid(True)\n",
    "ax.set_xlabel('Recall')\n",
    "ax.set_ylabel('Precision')\n",
    "ax.set_title('PR Curve')\n",
    "ax.set_xlim([0, 1])\n",
    "ax.set_ylim([0, 1.1])\n",
    "ax.legend()\n",
    "f.savefig('images/pr_curve.png', dpi=200, bbox_inches='tight');"
   ]
  },
  {
   "cell_type": "code",
   "execution_count": 303,
   "metadata": {},
   "outputs": [
    {
     "data": {
      "image/png": "[encoded data removed]",
      "text/plain": [
       "<Figure size 432x288 with 1 Axes>"
      ]
     },
     "metadata": {
      "image/png": {
       "height": 277,
       "width": 386
      }
     },
     "output_type": "display_data"
    }
   ],
   "source": [
    "malignant_rate = len(df_test[df_test['target'] == 1]) / len(df_test) * 100\n",
    "recalls_to_consider = [0.5, 0.75, 1.0]\n",
    "\n",
    "def find_nearest(array, value):\n",
    "    array = np.asarray(array)\n",
    "    idx = (np.abs(array - value)).argmin()\n",
    "    return array[idx], idx\n",
    "x = []\n",
    "b1_auto = []\n",
    "b2_auto = []\n",
    "rf_auto = []\n",
    "for recall in recalls_to_consider:\n",
    "    x.append(int(recall * 100))\n",
    "    b1_auto.append(100 - malignant_rate * recall / b1_p[find_nearest(b1_r, recall)[1]])\n",
    "    b2_auto.append(100 - malignant_rate * recall / b2_p[find_nearest(b2_r, recall)[1]])\n",
    "    rf_auto.append(100 - malignant_rate * recall / rf_p[find_nearest(rf_r, recall)[1]])\n",
    "\n",
    "f, ax = plt.subplots()\n",
    "index = np.arange(len(x))\n",
    "bar_width = 0.3\n",
    "opacity = 0.5\n",
    "ax.bar(index, b1_auto, bar_width,\n",
    "       alpha=opacity, color='r',\n",
    "       label='Baseline 1')\n",
    "ax.bar(index + bar_width, b2_auto, bar_width,\n",
    "       alpha=opacity, color='g',\n",
    "       label='Baseline 2')\n",
    "ax.bar(index + 2 * bar_width, rf_auto, bar_width,\n",
    "       alpha=opacity, color='b',\n",
    "       label='RF Classifier')\n",
    "ax.set_xticks(index + bar_width)\n",
    "ax.set_xticklabels(x)\n",
    "ax.set_ylim([0, 100])\n",
    "ax.set_yticks(np.arange(0, 101, 10))\n",
    "ax.set_ylabel('% Cases Automated')\n",
    "ax.set_xlabel('% Positive Cases Captured')\n",
    "ax.grid(True)\n",
    "ax.legend()\n",
    "ax.set_title('Automation Plot')\n",
    "f.savefig('images/automation.png', dpi=200, bbox_inches='tight');"
   ]
  }
 ],
 "metadata": {
  "kernelspec": {
   "display_name": "Python 3",
   "language": "python",
   "name": "python3"
  },
  "language_info": {
   "codemirror_mode": {
    "name": "ipython",
    "version": 3
   },
   "file_extension": ".py",
   "mimetype": "text/x-python",
   "name": "python",
   "nbconvert_exporter": "python",
   "pygments_lexer": "ipython3",
   "version": "3.6.5"
  }
 },
 "nbformat": 4,
 "nbformat_minor": 2
}
