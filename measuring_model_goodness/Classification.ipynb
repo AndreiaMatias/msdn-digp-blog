{
 "cells": [
  {
   "cell_type": "code",
   "execution_count": 1,
   "metadata": {},
   "outputs": [
    {
     "name": "stderr",
     "output_type": "stream",
     "text": [
      "C:\\Users\\ajthampi\\AppData\\Local\\Continuum\\anaconda3\\lib\\site-packages\\sklearn\\ensemble\\weight_boosting.py:29: DeprecationWarning: numpy.core.umath_tests is an internal NumPy module and should not be imported. It will be removed in a future NumPy release.\n",
      "  from numpy.core.umath_tests import inner1d\n"
     ]
    }
   ],
   "source": [
    "import math\n",
    "import random\n",
    "import itertools\n",
    "import numpy as np\n",
    "import pandas as pd\n",
    "from tqdm import tqdm\n",
    "\n",
    "from sklearn.datasets import load_breast_cancer\n",
    "from sklearn.model_selection import train_test_split\n",
    "from sklearn.pipeline import Pipeline\n",
    "from sklearn.model_selection import GridSearchCV\n",
    "from sklearn.metrics import confusion_matrix, roc_curve, auc, precision_recall_curve, average_precision_score\n",
    "from sklearn.preprocessing import StandardScaler\n",
    "from sklearn.decomposition import PCA\n",
    "from sklearn.ensemble import RandomForestClassifier\n",
    "\n",
    "from IPython.display import Image\n",
    "\n",
    "import matplotlib.pyplot as plt\n",
    "import seaborn as sns\n",
    "sns.set(style='white')\n",
    "sns.set_palette(\"bright\")\n",
    "%matplotlib inline\n",
    "%config InlineBackend.figure_format = 'retina'"
   ]
  },
  {
   "cell_type": "markdown",
   "metadata": {},
   "source": [
    "# Load Data"
   ]
  },
  {
   "cell_type": "code",
   "execution_count": 2,
   "metadata": {
    "scrolled": false
   },
   "outputs": [
    {
     "name": "stdout",
     "output_type": "stream",
     "text": [
      "Breast Cancer Wisconsin (Diagnostic) Database\n",
      "=============================================\n",
      "\n",
      "Notes\n",
      "-----\n",
      "Data Set Characteristics:\n",
      "    :Number of Instances: 569\n",
      "\n",
      "    :Number of Attributes: 30 numeric, predictive attributes and the class\n",
      "\n",
      "    :Attribute Information:\n",
      "        - radius (mean of distances from center to points on the perimeter)\n",
      "        - texture (standard deviation of gray-scale values)\n",
      "        - perimeter\n",
      "        - area\n",
      "        - smoothness (local variation in radius lengths)\n",
      "        - compactness (perimeter^2 / area - 1.0)\n",
      "        - concavity (severity of concave portions of the contour)\n",
      "        - concave points (number of concave portions of the contour)\n",
      "        - symmetry \n",
      "        - fractal dimension (\"coastline approximation\" - 1)\n",
      "\n",
      "        The mean, standard error, and \"worst\" or largest (mean of the three\n",
      "        largest values) of these features were computed for each image,\n",
      "        resulting in 30 features.  For instance, field 3 is Mean Radius, field\n",
      "        13 is Radius SE, field 23 is Worst Radius.\n",
      "\n",
      "        - class:\n",
      "                - WDBC-Malignant\n",
      "                - WDBC-Benign\n",
      "\n",
      "    :Summary Statistics:\n",
      "\n",
      "    ===================================== ====== ======\n",
      "                                           Min    Max\n",
      "    ===================================== ====== ======\n",
      "    radius (mean):                        6.981  28.11\n",
      "    texture (mean):                       9.71   39.28\n",
      "    perimeter (mean):                     43.79  188.5\n",
      "    area (mean):                          143.5  2501.0\n",
      "    smoothness (mean):                    0.053  0.163\n",
      "    compactness (mean):                   0.019  0.345\n",
      "    concavity (mean):                     0.0    0.427\n",
      "    concave points (mean):                0.0    0.201\n",
      "    symmetry (mean):                      0.106  0.304\n",
      "    fractal dimension (mean):             0.05   0.097\n",
      "    radius (standard error):              0.112  2.873\n",
      "    texture (standard error):             0.36   4.885\n",
      "    perimeter (standard error):           0.757  21.98\n",
      "    area (standard error):                6.802  542.2\n",
      "    smoothness (standard error):          0.002  0.031\n",
      "    compactness (standard error):         0.002  0.135\n",
      "    concavity (standard error):           0.0    0.396\n",
      "    concave points (standard error):      0.0    0.053\n",
      "    symmetry (standard error):            0.008  0.079\n",
      "    fractal dimension (standard error):   0.001  0.03\n",
      "    radius (worst):                       7.93   36.04\n",
      "    texture (worst):                      12.02  49.54\n",
      "    perimeter (worst):                    50.41  251.2\n",
      "    area (worst):                         185.2  4254.0\n",
      "    smoothness (worst):                   0.071  0.223\n",
      "    compactness (worst):                  0.027  1.058\n",
      "    concavity (worst):                    0.0    1.252\n",
      "    concave points (worst):               0.0    0.291\n",
      "    symmetry (worst):                     0.156  0.664\n",
      "    fractal dimension (worst):            0.055  0.208\n",
      "    ===================================== ====== ======\n",
      "\n",
      "    :Missing Attribute Values: None\n",
      "\n",
      "    :Class Distribution: 212 - Malignant, 357 - Benign\n",
      "\n",
      "    :Creator:  Dr. William H. Wolberg, W. Nick Street, Olvi L. Mangasarian\n",
      "\n",
      "    :Donor: Nick Street\n",
      "\n",
      "    :Date: November, 1995\n",
      "\n",
      "This is a copy of UCI ML Breast Cancer Wisconsin (Diagnostic) datasets.\n",
      "https://goo.gl/U2Uwz2\n",
      "\n",
      "Features are computed from a digitized image of a fine needle\n",
      "aspirate (FNA) of a breast mass.  They describe\n",
      "characteristics of the cell nuclei present in the image.\n",
      "\n",
      "Separating plane described above was obtained using\n",
      "Multisurface Method-Tree (MSM-T) [K. P. Bennett, \"Decision Tree\n",
      "Construction Via Linear Programming.\" Proceedings of the 4th\n",
      "Midwest Artificial Intelligence and Cognitive Science Society,\n",
      "pp. 97-101, 1992], a classification method which uses linear\n",
      "programming to construct a decision tree.  Relevant features\n",
      "were selected using an exhaustive search in the space of 1-4\n",
      "features and 1-3 separating planes.\n",
      "\n",
      "The actual linear program used to obtain the separating plane\n",
      "in the 3-dimensional space is that described in:\n",
      "[K. P. Bennett and O. L. Mangasarian: \"Robust Linear\n",
      "Programming Discrimination of Two Linearly Inseparable Sets\",\n",
      "Optimization Methods and Software 1, 1992, 23-34].\n",
      "\n",
      "This database is also available through the UW CS ftp server:\n",
      "\n",
      "ftp ftp.cs.wisc.edu\n",
      "cd math-prog/cpo-dataset/machine-learn/WDBC/\n",
      "\n",
      "References\n",
      "----------\n",
      "   - W.N. Street, W.H. Wolberg and O.L. Mangasarian. Nuclear feature extraction \n",
      "     for breast tumor diagnosis. IS&T/SPIE 1993 International Symposium on \n",
      "     Electronic Imaging: Science and Technology, volume 1905, pages 861-870,\n",
      "     San Jose, CA, 1993.\n",
      "   - O.L. Mangasarian, W.N. Street and W.H. Wolberg. Breast cancer diagnosis and \n",
      "     prognosis via linear programming. Operations Research, 43(4), pages 570-577, \n",
      "     July-August 1995.\n",
      "   - W.H. Wolberg, W.N. Street, and O.L. Mangasarian. Machine learning techniques\n",
      "     to diagnose breast cancer from fine-needle aspirates. Cancer Letters 77 (1994) \n",
      "     163-171.\n",
      "\n"
     ]
    }
   ],
   "source": [
    "breast_cancer = load_breast_cancer()\n",
    "print(breast_cancer['DESCR'])"
   ]
  },
  {
   "cell_type": "markdown",
   "metadata": {},
   "source": [
    "# Process Data"
   ]
  },
  {
   "cell_type": "code",
   "execution_count": 5,
   "metadata": {},
   "outputs": [
    {
     "name": "stdout",
     "output_type": "stream",
     "text": [
      "Dataset size: (569, 31)\n"
     ]
    },
    {
     "data": {
      "text/html": [
       "<div>\n",
       "<style scoped>\n",
       "    .dataframe tbody tr th:only-of-type {\n",
       "        vertical-align: middle;\n",
       "    }\n",
       "\n",
       "    .dataframe tbody tr th {\n",
       "        vertical-align: top;\n",
       "    }\n",
       "\n",
       "    .dataframe thead th {\n",
       "        text-align: right;\n",
       "    }\n",
       "</style>\n",
       "<table border=\"1\" class=\"dataframe\">\n",
       "  <thead>\n",
       "    <tr style=\"text-align: right;\">\n",
       "      <th></th>\n",
       "      <th>mean radius</th>\n",
       "      <th>mean texture</th>\n",
       "      <th>mean perimeter</th>\n",
       "      <th>mean area</th>\n",
       "      <th>mean smoothness</th>\n",
       "      <th>mean compactness</th>\n",
       "      <th>mean concavity</th>\n",
       "      <th>mean concave points</th>\n",
       "      <th>mean symmetry</th>\n",
       "      <th>mean fractal dimension</th>\n",
       "      <th>...</th>\n",
       "      <th>worst texture</th>\n",
       "      <th>worst perimeter</th>\n",
       "      <th>worst area</th>\n",
       "      <th>worst smoothness</th>\n",
       "      <th>worst compactness</th>\n",
       "      <th>worst concavity</th>\n",
       "      <th>worst concave points</th>\n",
       "      <th>worst symmetry</th>\n",
       "      <th>worst fractal dimension</th>\n",
       "      <th>target</th>\n",
       "    </tr>\n",
       "  </thead>\n",
       "  <tbody>\n",
       "    <tr>\n",
       "      <th>0</th>\n",
       "      <td>17.99</td>\n",
       "      <td>10.38</td>\n",
       "      <td>122.80</td>\n",
       "      <td>1001.0</td>\n",
       "      <td>0.11840</td>\n",
       "      <td>0.27760</td>\n",
       "      <td>0.3001</td>\n",
       "      <td>0.14710</td>\n",
       "      <td>0.2419</td>\n",
       "      <td>0.07871</td>\n",
       "      <td>...</td>\n",
       "      <td>17.33</td>\n",
       "      <td>184.60</td>\n",
       "      <td>2019.0</td>\n",
       "      <td>0.1622</td>\n",
       "      <td>0.6656</td>\n",
       "      <td>0.7119</td>\n",
       "      <td>0.2654</td>\n",
       "      <td>0.4601</td>\n",
       "      <td>0.11890</td>\n",
       "      <td>1</td>\n",
       "    </tr>\n",
       "    <tr>\n",
       "      <th>1</th>\n",
       "      <td>20.57</td>\n",
       "      <td>17.77</td>\n",
       "      <td>132.90</td>\n",
       "      <td>1326.0</td>\n",
       "      <td>0.08474</td>\n",
       "      <td>0.07864</td>\n",
       "      <td>0.0869</td>\n",
       "      <td>0.07017</td>\n",
       "      <td>0.1812</td>\n",
       "      <td>0.05667</td>\n",
       "      <td>...</td>\n",
       "      <td>23.41</td>\n",
       "      <td>158.80</td>\n",
       "      <td>1956.0</td>\n",
       "      <td>0.1238</td>\n",
       "      <td>0.1866</td>\n",
       "      <td>0.2416</td>\n",
       "      <td>0.1860</td>\n",
       "      <td>0.2750</td>\n",
       "      <td>0.08902</td>\n",
       "      <td>1</td>\n",
       "    </tr>\n",
       "    <tr>\n",
       "      <th>2</th>\n",
       "      <td>19.69</td>\n",
       "      <td>21.25</td>\n",
       "      <td>130.00</td>\n",
       "      <td>1203.0</td>\n",
       "      <td>0.10960</td>\n",
       "      <td>0.15990</td>\n",
       "      <td>0.1974</td>\n",
       "      <td>0.12790</td>\n",
       "      <td>0.2069</td>\n",
       "      <td>0.05999</td>\n",
       "      <td>...</td>\n",
       "      <td>25.53</td>\n",
       "      <td>152.50</td>\n",
       "      <td>1709.0</td>\n",
       "      <td>0.1444</td>\n",
       "      <td>0.4245</td>\n",
       "      <td>0.4504</td>\n",
       "      <td>0.2430</td>\n",
       "      <td>0.3613</td>\n",
       "      <td>0.08758</td>\n",
       "      <td>1</td>\n",
       "    </tr>\n",
       "    <tr>\n",
       "      <th>3</th>\n",
       "      <td>11.42</td>\n",
       "      <td>20.38</td>\n",
       "      <td>77.58</td>\n",
       "      <td>386.1</td>\n",
       "      <td>0.14250</td>\n",
       "      <td>0.28390</td>\n",
       "      <td>0.2414</td>\n",
       "      <td>0.10520</td>\n",
       "      <td>0.2597</td>\n",
       "      <td>0.09744</td>\n",
       "      <td>...</td>\n",
       "      <td>26.50</td>\n",
       "      <td>98.87</td>\n",
       "      <td>567.7</td>\n",
       "      <td>0.2098</td>\n",
       "      <td>0.8663</td>\n",
       "      <td>0.6869</td>\n",
       "      <td>0.2575</td>\n",
       "      <td>0.6638</td>\n",
       "      <td>0.17300</td>\n",
       "      <td>1</td>\n",
       "    </tr>\n",
       "    <tr>\n",
       "      <th>4</th>\n",
       "      <td>20.29</td>\n",
       "      <td>14.34</td>\n",
       "      <td>135.10</td>\n",
       "      <td>1297.0</td>\n",
       "      <td>0.10030</td>\n",
       "      <td>0.13280</td>\n",
       "      <td>0.1980</td>\n",
       "      <td>0.10430</td>\n",
       "      <td>0.1809</td>\n",
       "      <td>0.05883</td>\n",
       "      <td>...</td>\n",
       "      <td>16.67</td>\n",
       "      <td>152.20</td>\n",
       "      <td>1575.0</td>\n",
       "      <td>0.1374</td>\n",
       "      <td>0.2050</td>\n",
       "      <td>0.4000</td>\n",
       "      <td>0.1625</td>\n",
       "      <td>0.2364</td>\n",
       "      <td>0.07678</td>\n",
       "      <td>1</td>\n",
       "    </tr>\n",
       "  </tbody>\n",
       "</table>\n",
       "<p>5 rows × 31 columns</p>\n",
       "</div>"
      ],
      "text/plain": [
       "   mean radius  mean texture  mean perimeter  mean area  mean smoothness  \\\n",
       "0        17.99         10.38          122.80     1001.0          0.11840   \n",
       "1        20.57         17.77          132.90     1326.0          0.08474   \n",
       "2        19.69         21.25          130.00     1203.0          0.10960   \n",
       "3        11.42         20.38           77.58      386.1          0.14250   \n",
       "4        20.29         14.34          135.10     1297.0          0.10030   \n",
       "\n",
       "   mean compactness  mean concavity  mean concave points  mean symmetry  \\\n",
       "0           0.27760          0.3001              0.14710         0.2419   \n",
       "1           0.07864          0.0869              0.07017         0.1812   \n",
       "2           0.15990          0.1974              0.12790         0.2069   \n",
       "3           0.28390          0.2414              0.10520         0.2597   \n",
       "4           0.13280          0.1980              0.10430         0.1809   \n",
       "\n",
       "   mean fractal dimension   ...    worst texture  worst perimeter  worst area  \\\n",
       "0                 0.07871   ...            17.33           184.60      2019.0   \n",
       "1                 0.05667   ...            23.41           158.80      1956.0   \n",
       "2                 0.05999   ...            25.53           152.50      1709.0   \n",
       "3                 0.09744   ...            26.50            98.87       567.7   \n",
       "4                 0.05883   ...            16.67           152.20      1575.0   \n",
       "\n",
       "   worst smoothness  worst compactness  worst concavity  worst concave points  \\\n",
       "0            0.1622             0.6656           0.7119                0.2654   \n",
       "1            0.1238             0.1866           0.2416                0.1860   \n",
       "2            0.1444             0.4245           0.4504                0.2430   \n",
       "3            0.2098             0.8663           0.6869                0.2575   \n",
       "4            0.1374             0.2050           0.4000                0.1625   \n",
       "\n",
       "   worst symmetry  worst fractal dimension  target  \n",
       "0          0.4601                  0.11890       1  \n",
       "1          0.2750                  0.08902       1  \n",
       "2          0.3613                  0.08758       1  \n",
       "3          0.6638                  0.17300       1  \n",
       "4          0.2364                  0.07678       1  \n",
       "\n",
       "[5 rows x 31 columns]"
      ]
     },
     "execution_count": 5,
     "metadata": {},
     "output_type": "execute_result"
    }
   ],
   "source": [
    "df_bc = pd.DataFrame(breast_cancer['data'], columns=breast_cancer['feature_names'])\n",
    "df_bc['target'] = breast_cancer['target'] # target cancer type - malignant/benign (0/1)\n",
    "df_bc['target'] = df_bc['target'].apply(lambda x: 1 if x == 0 else 0) # flip the labels so that 0: benign and 1: malignant\n",
    "print(f'Dataset size: {df_bc.shape}')\n",
    "df_bc.head()"
   ]
  },
  {
   "cell_type": "code",
   "execution_count": 6,
   "metadata": {},
   "outputs": [
    {
     "data": {
      "text/plain": [
       "0    62.741652\n",
       "1    37.258348\n",
       "Name: target, dtype: float64"
      ]
     },
     "execution_count": 6,
     "metadata": {},
     "output_type": "execute_result"
    }
   ],
   "source": [
    "df_bc['target'].value_counts() / len(df_bc) * 100"
   ]
  },
  {
   "cell_type": "markdown",
   "metadata": {},
   "source": [
    "This means roughly 62.7% cases are benign and 37.3% are malignant."
   ]
  },
  {
   "cell_type": "code",
   "execution_count": 7,
   "metadata": {},
   "outputs": [
    {
     "name": "stdout",
     "output_type": "stream",
     "text": [
      "Size of train set: (455, 32)\n",
      "Size of test set: (114, 32)\n"
     ]
    }
   ],
   "source": [
    "# Split dataframe into train and test\n",
    "df_train, df_test = train_test_split(df_bc, test_size=0.2, random_state=42, stratify=df_bc['target'])\n",
    "df_train = df_train.reset_index()\n",
    "df_test = df_test.reset_index()\n",
    "print(f'Size of train set: {df_train.shape}')\n",
    "print(f'Size of test set: {df_test.shape}')"
   ]
  },
  {
   "cell_type": "code",
   "execution_count": 8,
   "metadata": {},
   "outputs": [
    {
     "data": {
      "text/plain": [
       "0    62.637363\n",
       "1    37.362637\n",
       "Name: target, dtype: float64"
      ]
     },
     "execution_count": 8,
     "metadata": {},
     "output_type": "execute_result"
    }
   ],
   "source": [
    "# Check distribution of class labels in train set\n",
    "df_train['target'].value_counts() / len(df_train) * 100"
   ]
  },
  {
   "cell_type": "code",
   "execution_count": 9,
   "metadata": {},
   "outputs": [
    {
     "data": {
      "text/plain": [
       "0    63.157895\n",
       "1    36.842105\n",
       "Name: target, dtype: float64"
      ]
     },
     "execution_count": 9,
     "metadata": {},
     "output_type": "execute_result"
    }
   ],
   "source": [
    "# Check distribution of class labels in test set\n",
    "df_test['target'].value_counts() / len(df_test) * 100"
   ]
  },
  {
   "cell_type": "code",
   "execution_count": 10,
   "metadata": {},
   "outputs": [
    {
     "data": {
      "text/html": [
       "<div>\n",
       "<style scoped>\n",
       "    .dataframe tbody tr th:only-of-type {\n",
       "        vertical-align: middle;\n",
       "    }\n",
       "\n",
       "    .dataframe tbody tr th {\n",
       "        vertical-align: top;\n",
       "    }\n",
       "\n",
       "    .dataframe thead th {\n",
       "        text-align: right;\n",
       "    }\n",
       "</style>\n",
       "<table border=\"1\" class=\"dataframe\">\n",
       "  <thead>\n",
       "    <tr style=\"text-align: right;\">\n",
       "      <th></th>\n",
       "      <th>index</th>\n",
       "      <th>mean radius</th>\n",
       "      <th>mean texture</th>\n",
       "      <th>mean perimeter</th>\n",
       "      <th>mean area</th>\n",
       "      <th>mean smoothness</th>\n",
       "      <th>mean compactness</th>\n",
       "      <th>mean concavity</th>\n",
       "      <th>mean concave points</th>\n",
       "      <th>mean symmetry</th>\n",
       "      <th>...</th>\n",
       "      <th>worst texture</th>\n",
       "      <th>worst perimeter</th>\n",
       "      <th>worst area</th>\n",
       "      <th>worst smoothness</th>\n",
       "      <th>worst compactness</th>\n",
       "      <th>worst concavity</th>\n",
       "      <th>worst concave points</th>\n",
       "      <th>worst symmetry</th>\n",
       "      <th>worst fractal dimension</th>\n",
       "      <th>target</th>\n",
       "    </tr>\n",
       "  </thead>\n",
       "  <tbody>\n",
       "    <tr>\n",
       "      <th>count</th>\n",
       "      <td>455.000000</td>\n",
       "      <td>455.000000</td>\n",
       "      <td>455.000000</td>\n",
       "      <td>455.000000</td>\n",
       "      <td>455.000000</td>\n",
       "      <td>455.000000</td>\n",
       "      <td>455.000000</td>\n",
       "      <td>455.000000</td>\n",
       "      <td>455.000000</td>\n",
       "      <td>455.000000</td>\n",
       "      <td>...</td>\n",
       "      <td>455.000000</td>\n",
       "      <td>455.000000</td>\n",
       "      <td>455.000000</td>\n",
       "      <td>455.000000</td>\n",
       "      <td>455.000000</td>\n",
       "      <td>455.000000</td>\n",
       "      <td>455.000000</td>\n",
       "      <td>455.000000</td>\n",
       "      <td>455.000000</td>\n",
       "      <td>455.000000</td>\n",
       "    </tr>\n",
       "    <tr>\n",
       "      <th>mean</th>\n",
       "      <td>282.019780</td>\n",
       "      <td>14.166077</td>\n",
       "      <td>19.417692</td>\n",
       "      <td>92.215868</td>\n",
       "      <td>659.578242</td>\n",
       "      <td>0.095993</td>\n",
       "      <td>0.103835</td>\n",
       "      <td>0.089184</td>\n",
       "      <td>0.049015</td>\n",
       "      <td>0.181497</td>\n",
       "      <td>...</td>\n",
       "      <td>25.904879</td>\n",
       "      <td>107.860484</td>\n",
       "      <td>890.569231</td>\n",
       "      <td>0.132083</td>\n",
       "      <td>0.255529</td>\n",
       "      <td>0.275166</td>\n",
       "      <td>0.115491</td>\n",
       "      <td>0.291364</td>\n",
       "      <td>0.084124</td>\n",
       "      <td>0.373626</td>\n",
       "    </tr>\n",
       "    <tr>\n",
       "      <th>std</th>\n",
       "      <td>163.583284</td>\n",
       "      <td>3.579081</td>\n",
       "      <td>4.290653</td>\n",
       "      <td>24.717118</td>\n",
       "      <td>360.418686</td>\n",
       "      <td>0.014310</td>\n",
       "      <td>0.053910</td>\n",
       "      <td>0.081698</td>\n",
       "      <td>0.039686</td>\n",
       "      <td>0.027646</td>\n",
       "      <td>...</td>\n",
       "      <td>6.079532</td>\n",
       "      <td>34.176019</td>\n",
       "      <td>582.346181</td>\n",
       "      <td>0.023481</td>\n",
       "      <td>0.158400</td>\n",
       "      <td>0.212066</td>\n",
       "      <td>0.066844</td>\n",
       "      <td>0.063043</td>\n",
       "      <td>0.018169</td>\n",
       "      <td>0.484299</td>\n",
       "    </tr>\n",
       "    <tr>\n",
       "      <th>min</th>\n",
       "      <td>0.000000</td>\n",
       "      <td>6.981000</td>\n",
       "      <td>9.710000</td>\n",
       "      <td>43.790000</td>\n",
       "      <td>143.500000</td>\n",
       "      <td>0.062510</td>\n",
       "      <td>0.019380</td>\n",
       "      <td>0.000000</td>\n",
       "      <td>0.000000</td>\n",
       "      <td>0.106000</td>\n",
       "      <td>...</td>\n",
       "      <td>12.020000</td>\n",
       "      <td>50.410000</td>\n",
       "      <td>185.200000</td>\n",
       "      <td>0.071170</td>\n",
       "      <td>0.027290</td>\n",
       "      <td>0.000000</td>\n",
       "      <td>0.000000</td>\n",
       "      <td>0.156500</td>\n",
       "      <td>0.055040</td>\n",
       "      <td>0.000000</td>\n",
       "    </tr>\n",
       "    <tr>\n",
       "      <th>25%</th>\n",
       "      <td>143.500000</td>\n",
       "      <td>11.710000</td>\n",
       "      <td>16.335000</td>\n",
       "      <td>75.235000</td>\n",
       "      <td>420.400000</td>\n",
       "      <td>0.085130</td>\n",
       "      <td>0.063735</td>\n",
       "      <td>0.029520</td>\n",
       "      <td>0.019685</td>\n",
       "      <td>0.162050</td>\n",
       "      <td>...</td>\n",
       "      <td>21.490000</td>\n",
       "      <td>84.135000</td>\n",
       "      <td>516.150000</td>\n",
       "      <td>0.114550</td>\n",
       "      <td>0.147750</td>\n",
       "      <td>0.119350</td>\n",
       "      <td>0.064075</td>\n",
       "      <td>0.251200</td>\n",
       "      <td>0.071365</td>\n",
       "      <td>0.000000</td>\n",
       "    </tr>\n",
       "    <tr>\n",
       "      <th>50%</th>\n",
       "      <td>281.000000</td>\n",
       "      <td>13.340000</td>\n",
       "      <td>18.900000</td>\n",
       "      <td>86.180000</td>\n",
       "      <td>546.400000</td>\n",
       "      <td>0.095240</td>\n",
       "      <td>0.092280</td>\n",
       "      <td>0.059400</td>\n",
       "      <td>0.033340</td>\n",
       "      <td>0.179900</td>\n",
       "      <td>...</td>\n",
       "      <td>25.480000</td>\n",
       "      <td>97.650000</td>\n",
       "      <td>683.400000</td>\n",
       "      <td>0.131100</td>\n",
       "      <td>0.216700</td>\n",
       "      <td>0.229800</td>\n",
       "      <td>0.101000</td>\n",
       "      <td>0.282300</td>\n",
       "      <td>0.080090</td>\n",
       "      <td>0.000000</td>\n",
       "    </tr>\n",
       "    <tr>\n",
       "      <th>75%</th>\n",
       "      <td>421.500000</td>\n",
       "      <td>15.935000</td>\n",
       "      <td>21.830000</td>\n",
       "      <td>104.500000</td>\n",
       "      <td>795.500000</td>\n",
       "      <td>0.104900</td>\n",
       "      <td>0.130350</td>\n",
       "      <td>0.132200</td>\n",
       "      <td>0.074075</td>\n",
       "      <td>0.195400</td>\n",
       "      <td>...</td>\n",
       "      <td>30.200000</td>\n",
       "      <td>127.000000</td>\n",
       "      <td>1122.500000</td>\n",
       "      <td>0.146600</td>\n",
       "      <td>0.338100</td>\n",
       "      <td>0.385700</td>\n",
       "      <td>0.162100</td>\n",
       "      <td>0.318700</td>\n",
       "      <td>0.092085</td>\n",
       "      <td>1.000000</td>\n",
       "    </tr>\n",
       "    <tr>\n",
       "      <th>max</th>\n",
       "      <td>567.000000</td>\n",
       "      <td>28.110000</td>\n",
       "      <td>39.280000</td>\n",
       "      <td>188.500000</td>\n",
       "      <td>2501.000000</td>\n",
       "      <td>0.163400</td>\n",
       "      <td>0.345400</td>\n",
       "      <td>0.426800</td>\n",
       "      <td>0.201200</td>\n",
       "      <td>0.304000</td>\n",
       "      <td>...</td>\n",
       "      <td>49.540000</td>\n",
       "      <td>251.200000</td>\n",
       "      <td>4254.000000</td>\n",
       "      <td>0.222600</td>\n",
       "      <td>1.058000</td>\n",
       "      <td>1.252000</td>\n",
       "      <td>0.291000</td>\n",
       "      <td>0.663800</td>\n",
       "      <td>0.207500</td>\n",
       "      <td>1.000000</td>\n",
       "    </tr>\n",
       "  </tbody>\n",
       "</table>\n",
       "<p>8 rows × 32 columns</p>\n",
       "</div>"
      ],
      "text/plain": [
       "            index  mean radius  mean texture  mean perimeter    mean area  \\\n",
       "count  455.000000   455.000000    455.000000      455.000000   455.000000   \n",
       "mean   282.019780    14.166077     19.417692       92.215868   659.578242   \n",
       "std    163.583284     3.579081      4.290653       24.717118   360.418686   \n",
       "min      0.000000     6.981000      9.710000       43.790000   143.500000   \n",
       "25%    143.500000    11.710000     16.335000       75.235000   420.400000   \n",
       "50%    281.000000    13.340000     18.900000       86.180000   546.400000   \n",
       "75%    421.500000    15.935000     21.830000      104.500000   795.500000   \n",
       "max    567.000000    28.110000     39.280000      188.500000  2501.000000   \n",
       "\n",
       "       mean smoothness  mean compactness  mean concavity  mean concave points  \\\n",
       "count       455.000000        455.000000      455.000000           455.000000   \n",
       "mean          0.095993          0.103835        0.089184             0.049015   \n",
       "std           0.014310          0.053910        0.081698             0.039686   \n",
       "min           0.062510          0.019380        0.000000             0.000000   \n",
       "25%           0.085130          0.063735        0.029520             0.019685   \n",
       "50%           0.095240          0.092280        0.059400             0.033340   \n",
       "75%           0.104900          0.130350        0.132200             0.074075   \n",
       "max           0.163400          0.345400        0.426800             0.201200   \n",
       "\n",
       "       mean symmetry     ...      worst texture  worst perimeter   worst area  \\\n",
       "count     455.000000     ...         455.000000       455.000000   455.000000   \n",
       "mean        0.181497     ...          25.904879       107.860484   890.569231   \n",
       "std         0.027646     ...           6.079532        34.176019   582.346181   \n",
       "min         0.106000     ...          12.020000        50.410000   185.200000   \n",
       "25%         0.162050     ...          21.490000        84.135000   516.150000   \n",
       "50%         0.179900     ...          25.480000        97.650000   683.400000   \n",
       "75%         0.195400     ...          30.200000       127.000000  1122.500000   \n",
       "max         0.304000     ...          49.540000       251.200000  4254.000000   \n",
       "\n",
       "       worst smoothness  worst compactness  worst concavity  \\\n",
       "count        455.000000         455.000000       455.000000   \n",
       "mean           0.132083           0.255529         0.275166   \n",
       "std            0.023481           0.158400         0.212066   \n",
       "min            0.071170           0.027290         0.000000   \n",
       "25%            0.114550           0.147750         0.119350   \n",
       "50%            0.131100           0.216700         0.229800   \n",
       "75%            0.146600           0.338100         0.385700   \n",
       "max            0.222600           1.058000         1.252000   \n",
       "\n",
       "       worst concave points  worst symmetry  worst fractal dimension  \\\n",
       "count            455.000000      455.000000               455.000000   \n",
       "mean               0.115491        0.291364                 0.084124   \n",
       "std                0.066844        0.063043                 0.018169   \n",
       "min                0.000000        0.156500                 0.055040   \n",
       "25%                0.064075        0.251200                 0.071365   \n",
       "50%                0.101000        0.282300                 0.080090   \n",
       "75%                0.162100        0.318700                 0.092085   \n",
       "max                0.291000        0.663800                 0.207500   \n",
       "\n",
       "           target  \n",
       "count  455.000000  \n",
       "mean     0.373626  \n",
       "std      0.484299  \n",
       "min      0.000000  \n",
       "25%      0.000000  \n",
       "50%      0.000000  \n",
       "75%      1.000000  \n",
       "max      1.000000  \n",
       "\n",
       "[8 rows x 32 columns]"
      ]
     },
     "execution_count": 10,
     "metadata": {},
     "output_type": "execute_result"
    }
   ],
   "source": [
    "# Distribution of train\n",
    "df_train.describe()"
   ]
  },
  {
   "cell_type": "code",
   "execution_count": 11,
   "metadata": {},
   "outputs": [
    {
     "data": {
      "text/html": [
       "<div>\n",
       "<style scoped>\n",
       "    .dataframe tbody tr th:only-of-type {\n",
       "        vertical-align: middle;\n",
       "    }\n",
       "\n",
       "    .dataframe tbody tr th {\n",
       "        vertical-align: top;\n",
       "    }\n",
       "\n",
       "    .dataframe thead th {\n",
       "        text-align: right;\n",
       "    }\n",
       "</style>\n",
       "<table border=\"1\" class=\"dataframe\">\n",
       "  <thead>\n",
       "    <tr style=\"text-align: right;\">\n",
       "      <th></th>\n",
       "      <th>index</th>\n",
       "      <th>mean radius</th>\n",
       "      <th>mean texture</th>\n",
       "      <th>mean perimeter</th>\n",
       "      <th>mean area</th>\n",
       "      <th>mean smoothness</th>\n",
       "      <th>mean compactness</th>\n",
       "      <th>mean concavity</th>\n",
       "      <th>mean concave points</th>\n",
       "      <th>mean symmetry</th>\n",
       "      <th>...</th>\n",
       "      <th>worst texture</th>\n",
       "      <th>worst perimeter</th>\n",
       "      <th>worst area</th>\n",
       "      <th>worst smoothness</th>\n",
       "      <th>worst compactness</th>\n",
       "      <th>worst concavity</th>\n",
       "      <th>worst concave points</th>\n",
       "      <th>worst symmetry</th>\n",
       "      <th>worst fractal dimension</th>\n",
       "      <th>target</th>\n",
       "    </tr>\n",
       "  </thead>\n",
       "  <tbody>\n",
       "    <tr>\n",
       "      <th>count</th>\n",
       "      <td>114.000000</td>\n",
       "      <td>114.000000</td>\n",
       "      <td>114.000000</td>\n",
       "      <td>114.000000</td>\n",
       "      <td>114.000000</td>\n",
       "      <td>114.000000</td>\n",
       "      <td>114.000000</td>\n",
       "      <td>114.000000</td>\n",
       "      <td>114.000000</td>\n",
       "      <td>114.000000</td>\n",
       "      <td>...</td>\n",
       "      <td>114.000000</td>\n",
       "      <td>114.000000</td>\n",
       "      <td>114.000000</td>\n",
       "      <td>114.000000</td>\n",
       "      <td>114.000000</td>\n",
       "      <td>114.000000</td>\n",
       "      <td>114.000000</td>\n",
       "      <td>114.000000</td>\n",
       "      <td>114.000000</td>\n",
       "      <td>114.000000</td>\n",
       "    </tr>\n",
       "    <tr>\n",
       "      <th>mean</th>\n",
       "      <td>291.903509</td>\n",
       "      <td>13.972491</td>\n",
       "      <td>18.778596</td>\n",
       "      <td>90.983860</td>\n",
       "      <td>636.173684</td>\n",
       "      <td>0.097826</td>\n",
       "      <td>0.106361</td>\n",
       "      <td>0.087263</td>\n",
       "      <td>0.048538</td>\n",
       "      <td>0.179824</td>\n",
       "      <td>...</td>\n",
       "      <td>24.768596</td>\n",
       "      <td>104.869386</td>\n",
       "      <td>840.726316</td>\n",
       "      <td>0.133508</td>\n",
       "      <td>0.249218</td>\n",
       "      <td>0.260303</td>\n",
       "      <td>0.111076</td>\n",
       "      <td>0.284934</td>\n",
       "      <td>0.083236</td>\n",
       "      <td>0.368421</td>\n",
       "    </tr>\n",
       "    <tr>\n",
       "      <th>std</th>\n",
       "      <td>168.120951</td>\n",
       "      <td>3.305763</td>\n",
       "      <td>4.323369</td>\n",
       "      <td>22.629551</td>\n",
       "      <td>316.477632</td>\n",
       "      <td>0.012994</td>\n",
       "      <td>0.048354</td>\n",
       "      <td>0.071593</td>\n",
       "      <td>0.035218</td>\n",
       "      <td>0.026545</td>\n",
       "      <td>...</td>\n",
       "      <td>6.351908</td>\n",
       "      <td>31.236836</td>\n",
       "      <td>514.711990</td>\n",
       "      <td>0.020089</td>\n",
       "      <td>0.153599</td>\n",
       "      <td>0.194713</td>\n",
       "      <td>0.061247</td>\n",
       "      <td>0.056903</td>\n",
       "      <td>0.017687</td>\n",
       "      <td>0.484506</td>\n",
       "    </tr>\n",
       "    <tr>\n",
       "      <th>min</th>\n",
       "      <td>4.000000</td>\n",
       "      <td>7.760000</td>\n",
       "      <td>10.820000</td>\n",
       "      <td>47.920000</td>\n",
       "      <td>181.000000</td>\n",
       "      <td>0.052630</td>\n",
       "      <td>0.036140</td>\n",
       "      <td>0.000000</td>\n",
       "      <td>0.000000</td>\n",
       "      <td>0.116700</td>\n",
       "      <td>...</td>\n",
       "      <td>14.820000</td>\n",
       "      <td>56.650000</td>\n",
       "      <td>240.100000</td>\n",
       "      <td>0.084840</td>\n",
       "      <td>0.054450</td>\n",
       "      <td>0.000000</td>\n",
       "      <td>0.000000</td>\n",
       "      <td>0.165200</td>\n",
       "      <td>0.057370</td>\n",
       "      <td>0.000000</td>\n",
       "    </tr>\n",
       "    <tr>\n",
       "      <th>25%</th>\n",
       "      <td>132.250000</td>\n",
       "      <td>11.607500</td>\n",
       "      <td>15.722500</td>\n",
       "      <td>74.472500</td>\n",
       "      <td>413.225000</td>\n",
       "      <td>0.088752</td>\n",
       "      <td>0.069703</td>\n",
       "      <td>0.030828</td>\n",
       "      <td>0.021895</td>\n",
       "      <td>0.161525</td>\n",
       "      <td>...</td>\n",
       "      <td>19.602500</td>\n",
       "      <td>84.072500</td>\n",
       "      <td>511.000000</td>\n",
       "      <td>0.120700</td>\n",
       "      <td>0.144800</td>\n",
       "      <td>0.099862</td>\n",
       "      <td>0.065770</td>\n",
       "      <td>0.243425</td>\n",
       "      <td>0.071892</td>\n",
       "      <td>0.000000</td>\n",
       "    </tr>\n",
       "    <tr>\n",
       "      <th>50%</th>\n",
       "      <td>302.000000</td>\n",
       "      <td>13.430000</td>\n",
       "      <td>18.285000</td>\n",
       "      <td>86.680000</td>\n",
       "      <td>558.200000</td>\n",
       "      <td>0.098070</td>\n",
       "      <td>0.096700</td>\n",
       "      <td>0.070550</td>\n",
       "      <td>0.035055</td>\n",
       "      <td>0.176900</td>\n",
       "      <td>...</td>\n",
       "      <td>24.265000</td>\n",
       "      <td>98.575000</td>\n",
       "      <td>692.650000</td>\n",
       "      <td>0.134800</td>\n",
       "      <td>0.199550</td>\n",
       "      <td>0.218050</td>\n",
       "      <td>0.097630</td>\n",
       "      <td>0.281300</td>\n",
       "      <td>0.079365</td>\n",
       "      <td>0.000000</td>\n",
       "    </tr>\n",
       "    <tr>\n",
       "      <th>75%</th>\n",
       "      <td>439.500000</td>\n",
       "      <td>15.302500</td>\n",
       "      <td>21.190000</td>\n",
       "      <td>101.950000</td>\n",
       "      <td>715.400000</td>\n",
       "      <td>0.107225</td>\n",
       "      <td>0.131125</td>\n",
       "      <td>0.117975</td>\n",
       "      <td>0.069968</td>\n",
       "      <td>0.196700</td>\n",
       "      <td>...</td>\n",
       "      <td>28.647500</td>\n",
       "      <td>116.825000</td>\n",
       "      <td>966.325000</td>\n",
       "      <td>0.142775</td>\n",
       "      <td>0.343000</td>\n",
       "      <td>0.373850</td>\n",
       "      <td>0.160100</td>\n",
       "      <td>0.315025</td>\n",
       "      <td>0.091862</td>\n",
       "      <td>1.000000</td>\n",
       "    </tr>\n",
       "    <tr>\n",
       "      <th>max</th>\n",
       "      <td>568.000000</td>\n",
       "      <td>23.090000</td>\n",
       "      <td>32.470000</td>\n",
       "      <td>152.100000</td>\n",
       "      <td>1682.000000</td>\n",
       "      <td>0.127800</td>\n",
       "      <td>0.241300</td>\n",
       "      <td>0.317400</td>\n",
       "      <td>0.156200</td>\n",
       "      <td>0.274300</td>\n",
       "      <td>...</td>\n",
       "      <td>45.410000</td>\n",
       "      <td>211.500000</td>\n",
       "      <td>2782.000000</td>\n",
       "      <td>0.200600</td>\n",
       "      <td>0.932700</td>\n",
       "      <td>0.848800</td>\n",
       "      <td>0.254200</td>\n",
       "      <td>0.516600</td>\n",
       "      <td>0.144600</td>\n",
       "      <td>1.000000</td>\n",
       "    </tr>\n",
       "  </tbody>\n",
       "</table>\n",
       "<p>8 rows × 32 columns</p>\n",
       "</div>"
      ],
      "text/plain": [
       "            index  mean radius  mean texture  mean perimeter    mean area  \\\n",
       "count  114.000000   114.000000    114.000000      114.000000   114.000000   \n",
       "mean   291.903509    13.972491     18.778596       90.983860   636.173684   \n",
       "std    168.120951     3.305763      4.323369       22.629551   316.477632   \n",
       "min      4.000000     7.760000     10.820000       47.920000   181.000000   \n",
       "25%    132.250000    11.607500     15.722500       74.472500   413.225000   \n",
       "50%    302.000000    13.430000     18.285000       86.680000   558.200000   \n",
       "75%    439.500000    15.302500     21.190000      101.950000   715.400000   \n",
       "max    568.000000    23.090000     32.470000      152.100000  1682.000000   \n",
       "\n",
       "       mean smoothness  mean compactness  mean concavity  mean concave points  \\\n",
       "count       114.000000        114.000000      114.000000           114.000000   \n",
       "mean          0.097826          0.106361        0.087263             0.048538   \n",
       "std           0.012994          0.048354        0.071593             0.035218   \n",
       "min           0.052630          0.036140        0.000000             0.000000   \n",
       "25%           0.088752          0.069703        0.030828             0.021895   \n",
       "50%           0.098070          0.096700        0.070550             0.035055   \n",
       "75%           0.107225          0.131125        0.117975             0.069968   \n",
       "max           0.127800          0.241300        0.317400             0.156200   \n",
       "\n",
       "       mean symmetry     ...      worst texture  worst perimeter   worst area  \\\n",
       "count     114.000000     ...         114.000000       114.000000   114.000000   \n",
       "mean        0.179824     ...          24.768596       104.869386   840.726316   \n",
       "std         0.026545     ...           6.351908        31.236836   514.711990   \n",
       "min         0.116700     ...          14.820000        56.650000   240.100000   \n",
       "25%         0.161525     ...          19.602500        84.072500   511.000000   \n",
       "50%         0.176900     ...          24.265000        98.575000   692.650000   \n",
       "75%         0.196700     ...          28.647500       116.825000   966.325000   \n",
       "max         0.274300     ...          45.410000       211.500000  2782.000000   \n",
       "\n",
       "       worst smoothness  worst compactness  worst concavity  \\\n",
       "count        114.000000         114.000000       114.000000   \n",
       "mean           0.133508           0.249218         0.260303   \n",
       "std            0.020089           0.153599         0.194713   \n",
       "min            0.084840           0.054450         0.000000   \n",
       "25%            0.120700           0.144800         0.099862   \n",
       "50%            0.134800           0.199550         0.218050   \n",
       "75%            0.142775           0.343000         0.373850   \n",
       "max            0.200600           0.932700         0.848800   \n",
       "\n",
       "       worst concave points  worst symmetry  worst fractal dimension  \\\n",
       "count            114.000000      114.000000               114.000000   \n",
       "mean               0.111076        0.284934                 0.083236   \n",
       "std                0.061247        0.056903                 0.017687   \n",
       "min                0.000000        0.165200                 0.057370   \n",
       "25%                0.065770        0.243425                 0.071892   \n",
       "50%                0.097630        0.281300                 0.079365   \n",
       "75%                0.160100        0.315025                 0.091862   \n",
       "max                0.254200        0.516600                 0.144600   \n",
       "\n",
       "           target  \n",
       "count  114.000000  \n",
       "mean     0.368421  \n",
       "std      0.484506  \n",
       "min      0.000000  \n",
       "25%      0.000000  \n",
       "50%      0.000000  \n",
       "75%      1.000000  \n",
       "max      1.000000  \n",
       "\n",
       "[8 rows x 32 columns]"
      ]
     },
     "execution_count": 11,
     "metadata": {},
     "output_type": "execute_result"
    }
   ],
   "source": [
    "# Distribution of train\n",
    "df_test.describe()"
   ]
  },
  {
   "cell_type": "markdown",
   "metadata": {},
   "source": [
    "# Baseline Models\n",
    "\n",
    "1. Random classifier\n",
    "2. Majority class classifier"
   ]
  },
  {
   "cell_type": "code",
   "execution_count": 12,
   "metadata": {},
   "outputs": [],
   "source": [
    "random_cls_proba = [random.random() for _ in range(len(df_test))]"
   ]
  },
  {
   "cell_type": "code",
   "execution_count": 13,
   "metadata": {},
   "outputs": [],
   "source": [
    "majority_class = df_train['target'].value_counts().index[0]"
   ]
  },
  {
   "cell_type": "code",
   "execution_count": 14,
   "metadata": {},
   "outputs": [],
   "source": [
    "# Augment test dataframe with baseline model results\n",
    "df_test['baseline_1_proba'] = random_cls_proba\n",
    "df_test['baseline_1'] = df_test['baseline_1_proba'].apply(lambda x: 1 if x > 0.5 else 0)\n",
    "df_test['baseline_2'] = majority_class"
   ]
  },
  {
   "cell_type": "markdown",
   "metadata": {},
   "source": [
    "# Random Forest Classifier"
   ]
  },
  {
   "cell_type": "code",
   "execution_count": 15,
   "metadata": {},
   "outputs": [
    {
     "name": "stdout",
     "output_type": "stream",
     "text": [
      "Number of features: 30\n"
     ]
    }
   ],
   "source": [
    "print(f\"Number of features: {len(breast_cancer['feature_names'])}\")"
   ]
  },
  {
   "cell_type": "code",
   "execution_count": 16,
   "metadata": {},
   "outputs": [],
   "source": [
    "X_train = df_train[breast_cancer['feature_names']]\n",
    "X_test = df_test[breast_cancer['feature_names']]\n",
    "y_train = df_train[['target']].values"
   ]
  },
  {
   "cell_type": "code",
   "execution_count": 25,
   "metadata": {},
   "outputs": [
    {
     "name": "stdout",
     "output_type": "stream",
     "text": [
      "Fitting 5 folds for each of 21 candidates, totalling 105 fits\n"
     ]
    },
    {
     "name": "stderr",
     "output_type": "stream",
     "text": [
      "[Parallel(n_jobs=4)]: Done  10 tasks      | elapsed:   10.8s\n",
      "[Parallel(n_jobs=4)]: Done  64 tasks      | elapsed:   28.0s\n",
      "[Parallel(n_jobs=4)]: Done 105 out of 105 | elapsed:   42.0s finished\n",
      "C:\\Users\\ajthampi\\AppData\\Local\\Continuum\\anaconda3\\lib\\site-packages\\sklearn\\pipeline.py:250: DataConversionWarning: A column-vector y was passed when a 1d array was expected. Please change the shape of y to (n_samples,), for example using ravel().\n",
      "  self._final_estimator.fit(Xt, y, **fit_params)\n"
     ]
    },
    {
     "data": {
      "text/plain": [
       "GridSearchCV(cv=5, error_score='raise',\n",
       "       estimator=Pipeline(memory=None,\n",
       "     steps=[('scaler', StandardScaler(copy=True, with_mean=True, with_std=True)), ('pca', PCA(copy=True, iterated_power='auto', n_components=None, random_state=42,\n",
       "  svd_solver='auto', tol=0.0, whiten=False)), ('rf_cls', RandomForestClassifier(bootstrap=True, class_weight=None, criterion='gini',\n",
       "        ...stimators=10, n_jobs=4,\n",
       "            oob_score=False, random_state=42, verbose=0, warm_start=False))]),\n",
       "       fit_params=None, iid=True, n_jobs=4,\n",
       "       param_grid={'pca__n_components': [8], 'rf_cls__n_estimators': array([130, 131, 132, 133, 134, 135, 136, 137, 138, 139, 140, 141, 142,\n",
       "       143, 144, 145, 146, 147, 148, 149, 150]), 'rf_cls__criterion': ['entropy'], 'rf_cls__max_depth': [10]},\n",
       "       pre_dispatch='2*n_jobs', refit=True, return_train_score='warn',\n",
       "       scoring=None, verbose=5)"
      ]
     },
     "execution_count": 25,
     "metadata": {},
     "output_type": "execute_result"
    }
   ],
   "source": [
    "# Perform grid search to determine 'optimum' hyperparameters\n",
    "model_pipeline = Pipeline(steps=[('scaler', StandardScaler()),\n",
    "                                 ('pca', PCA(random_state=42)), \n",
    "                                 ('rf_cls', RandomForestClassifier(random_state=42, n_jobs=4))])\n",
    "\n",
    "# n_components = [2, 4, 8, 10, 13] # round 1\n",
    "# n_estimators = [10, 50, 100, 1000] # round 1\n",
    "# criteria = ['gini', 'entropy'] # round 1\n",
    "# max_depths = [None, 10, 100, 1000] # round 1\n",
    "\n",
    "# n_components = [8, 9, ] # round 2\n",
    "# n_estimators = np.arange(500, 1501, 100) # round 2\n",
    "# criteria = ['entropy', ] # round 2\n",
    "# max_depths = [10, ] # round 2\n",
    "\n",
    "# n_components = [8, ] # round 3\n",
    "# n_estimators = np.arange(100, 600, 50) # round 3\n",
    "# criteria = ['entropy', ] # round 3\n",
    "# max_depths = [10, ] # round 3\n",
    "\n",
    "n_components = [8, ] # round 4\n",
    "n_estimators = np.arange(130, 151, 1) # round 4\n",
    "criteria = ['entropy', ] # round 4\n",
    "max_depths = [10, ] # round 4\n",
    "\n",
    "estimator  = GridSearchCV(model_pipeline, cv=5, n_jobs=4, verbose=5, param_grid=dict(\n",
    "                                        pca__n_components=n_components,\n",
    "                                        rf_cls__n_estimators=n_estimators,\n",
    "                                        rf_cls__criterion=criteria,\n",
    "                                        rf_cls__max_depth=max_depths))\n",
    "estimator.fit(X_train, y_train)"
   ]
  },
  {
   "cell_type": "code",
   "execution_count": 26,
   "metadata": {},
   "outputs": [
    {
     "data": {
      "text/plain": [
       "{'pca__n_components': 8,\n",
       " 'rf_cls__criterion': 'entropy',\n",
       " 'rf_cls__max_depth': 10,\n",
       " 'rf_cls__n_estimators': 135}"
      ]
     },
     "execution_count": 26,
     "metadata": {},
     "output_type": "execute_result"
    }
   ],
   "source": [
    "# round 1: {'pca__n_components': 8, 'rf_cls__criterion': 'entropy', 'rf_cls__max_depth': 10, 'rf_cls__n_estimators': 1000}\n",
    "# round 2: {'pca__n_components': 8, 'rf_cls__criterion': 'entropy', 'rf_cls__max_depth': 10, 'rf_cls__n_estimators': 500}\n",
    "# round 3: {'pca__n_components': 8, 'rf_cls__criterion': 'entropy', 'rf_cls__max_depth': 10, 'rf_cls__n_estimators': 150}\n",
    "# round 4: {'pca__n_components': 8, 'rf_cls__criterion': 'entropy', 'rf_cls__max_depth': 10, 'rf_cls__n_estimators': 135}\n",
    "estimator.best_params_ "
   ]
  },
  {
   "cell_type": "code",
   "execution_count": 27,
   "metadata": {},
   "outputs": [],
   "source": [
    "best_model = estimator.best_estimator_"
   ]
  },
  {
   "cell_type": "code",
   "execution_count": 28,
   "metadata": {},
   "outputs": [],
   "source": [
    "y_test = best_model.predict(X_test)\n",
    "y_proba_test = best_model.predict_proba(X_test)"
   ]
  },
  {
   "cell_type": "code",
   "execution_count": 29,
   "metadata": {},
   "outputs": [],
   "source": [
    "df_test['rf_cls'] = y_test\n",
    "df_test['rf_cls_proba'] = y_proba_test[:,1]"
   ]
  },
  {
   "cell_type": "markdown",
   "metadata": {},
   "source": [
    "# Evaluate Model Performance"
   ]
  },
  {
   "cell_type": "code",
   "execution_count": 30,
   "metadata": {},
   "outputs": [],
   "source": [
    "def normalise_cm(cm):\n",
    "    return cm.astype('float') / cm.sum(axis=1)[:, np.newaxis]"
   ]
  },
  {
   "cell_type": "code",
   "execution_count": 31,
   "metadata": {},
   "outputs": [],
   "source": [
    "def plot_confusion_matrix(cm, classes, filename,\n",
    "                          normalize=False,\n",
    "                          title='Confusion matrix',\n",
    "                          cmap=plt.cm.Blues):\n",
    "    \"\"\"\n",
    "    This function prints and plots the confusion matrix.\n",
    "    Normalization can be applied by setting `normalize=True`.\n",
    "    \"\"\"\n",
    "    if normalize:\n",
    "        cm = normalise_cm(cm)\n",
    "        print(\"Normalized confusion matrix\")\n",
    "    else:\n",
    "        print('Confusion matrix, without normalization')\n",
    "\n",
    "    print(cm)\n",
    "\n",
    "    plt.imshow(cm, interpolation='nearest', cmap=cmap)\n",
    "    plt.title(title)\n",
    "    plt.colorbar()\n",
    "    tick_marks = np.arange(len(classes))\n",
    "    plt.xticks(tick_marks, classes)\n",
    "    plt.yticks(tick_marks, classes)\n",
    "\n",
    "    fmt = '.2f' if normalize else 'd'\n",
    "    thresh = cm.max() / 2.\n",
    "    for i, j in itertools.product(range(cm.shape[0]), range(cm.shape[1])):\n",
    "        plt.text(j, i, format(cm[i, j], fmt),\n",
    "                 horizontalalignment=\"center\",\n",
    "                 color=\"black\")\n",
    "\n",
    "    plt.tight_layout()\n",
    "    plt.ylabel('True label')\n",
    "    plt.xlabel('Predicted label')\n",
    "    plt.savefig(filename, dpi=200, bbox_inches='tight')"
   ]
  },
  {
   "cell_type": "code",
   "execution_count": 32,
   "metadata": {},
   "outputs": [],
   "source": [
    "b1_cm = confusion_matrix(df_test['target'], df_test['baseline_1'])\n",
    "b2_cm = confusion_matrix(df_test['target'], df_test['baseline_2'])\n",
    "rf_cm = confusion_matrix(df_test['target'], df_test['rf_cls'])\n",
    "b1_cm_norm = normalise_cm(b1_cm)\n",
    "b2_cm_norm = normalise_cm(b2_cm)\n",
    "rf_cm_norm = normalise_cm(rf_cm)\n",
    "np.set_printoptions(precision=2)"
   ]
  },
  {
   "cell_type": "code",
   "execution_count": 33,
   "metadata": {},
   "outputs": [
    {
     "name": "stdout",
     "output_type": "stream",
     "text": [
      "Confusion matrix, without normalization\n",
      "[[ 1 -2]\n",
      " [-4  1]]\n"
     ]
    },
    {
     "data": {
      "image/png": "[encoded data removed]",
      "text/plain": [
       "<Figure size 432x288 with 2 Axes>"
      ]
     },
     "metadata": {
      "image/png": {
       "height": 296,
       "width": 330
      }
     },
     "output_type": "display_data"
    }
   ],
   "source": [
    "value_cost_matrix = np.array([[1, -2], [-4, 1]])\n",
    "plot_confusion_matrix(value_cost_matrix, classes=['B', 'M'], \n",
    "                      filename='images/value_cost_matrix.png',\n",
    "                      title='Value/Cost Matrix',\n",
    "                      cmap=plt.cm.autumn)"
   ]
  },
  {
   "cell_type": "code",
   "execution_count": 34,
   "metadata": {},
   "outputs": [
    {
     "name": "stdout",
     "output_type": "stream",
     "text": [
      "Normalized confusion matrix\n",
      "[[0.43 0.57]\n",
      " [0.4  0.6 ]]\n"
     ]
    },
    {
     "data": {
      "image/png": "[encoded data removed]",
      "text/plain": [
       "<Figure size 432x288 with 2 Axes>"
      ]
     },
     "metadata": {
      "image/png": {
       "height": 297,
       "width": 332
      }
     },
     "output_type": "display_data"
    }
   ],
   "source": [
    "plot_confusion_matrix(b1_cm, classes=['B', 'M'], \n",
    "                      filename='images/baseline_1_cm.png',\n",
    "                      title=f'Baseline 1\\n(Total Samples = {len(df_test)})', \n",
    "                      normalize=True)"
   ]
  },
  {
   "cell_type": "code",
   "execution_count": 35,
   "metadata": {},
   "outputs": [
    {
     "name": "stdout",
     "output_type": "stream",
     "text": [
      "Normalized confusion matrix\n",
      "[[1. 0.]\n",
      " [1. 0.]]\n"
     ]
    },
    {
     "data": {
      "image/png": "[encoded data removed]",
      "text/plain": [
       "<Figure size 432x288 with 2 Axes>"
      ]
     },
     "metadata": {
      "image/png": {
       "height": 297,
       "width": 321
      }
     },
     "output_type": "display_data"
    }
   ],
   "source": [
    "plot_confusion_matrix(b2_cm, classes=['B', 'M'], \n",
    "                      filename='images/baseline_2_cm.png',\n",
    "                      title=f'Baseline 2\\n(Total Samples = {len(df_test)})', \n",
    "                      normalize=True)"
   ]
  },
  {
   "cell_type": "code",
   "execution_count": 36,
   "metadata": {},
   "outputs": [
    {
     "name": "stdout",
     "output_type": "stream",
     "text": [
      "Normalized confusion matrix\n",
      "[[0.97 0.03]\n",
      " [0.07 0.93]]\n"
     ]
    },
    {
     "data": {
      "image/png": "[encoded data removed]",
      "text/plain": [
       "<Figure size 432x288 with 2 Axes>"
      ]
     },
     "metadata": {
      "image/png": {
       "height": 297,
       "width": 321
      }
     },
     "output_type": "display_data"
    }
   ],
   "source": [
    "plot_confusion_matrix(rf_cm, classes=['B', 'M'], \n",
    "                      filename='images/rf_cls_cm.png',\n",
    "                      title=f'RF Classifier\\n(Total Samples = {len(df_test)})', \n",
    "                      normalize=True)"
   ]
  },
  {
   "cell_type": "code",
   "execution_count": 38,
   "metadata": {},
   "outputs": [
    {
     "data": {
      "image/png": "[encoded data removed]",
      "text/plain": [
       "<Figure size 432x288 with 1 Axes>"
      ]
     },
     "metadata": {
      "image/png": {
       "height": 263,
       "width": 381
      }
     },
     "output_type": "display_data"
    }
   ],
   "source": [
    "# Function to compute value given unnormalised confusion matrix (cm) and value-cost matrix (vcm)\n",
    "compute_value = lambda cm, vcm: normalise_cm(cm).flatten().dot(vcm.flatten())\n",
    "\n",
    "b1_value = compute_value(b1_cm, value_cost_matrix)\n",
    "b2_value = compute_value(b2_cm, value_cost_matrix)\n",
    "rf_value = compute_value(rf_cm, value_cost_matrix)\n",
    "\n",
    "f, ax = plt.subplots()\n",
    "def autolabel(rect, color='blue'):\n",
    "    height = rect.get_height()\n",
    "    ax.text(rect.get_x() + rect.get_width()/2., 1.05*height,\n",
    "            '%.2f' % height,\n",
    "            ha='center', va='bottom', color=color, fontweight='bold')\n",
    "\n",
    "x = [0, 0.3, 0.6]\n",
    "y = [b1_value, b2_value, rf_value]\n",
    "rect_b1, rect_b2, rect_rf = ax.bar(x, y, alpha=0.5, width=0.2)\n",
    "rect_b1.set_facecolor('r')\n",
    "rect_b2.set_facecolor('g')\n",
    "rect_rf.set_facecolor('b')\n",
    "\n",
    "autolabel(rect_b1, color='red')\n",
    "autolabel(rect_b2, color='red')\n",
    "autolabel(rect_rf, color='blue')\n",
    "ax.set_ylim([-4, 2])\n",
    "\n",
    "ax.set_xticks(x)\n",
    "ax.set_xticklabels(['Baseline 1', 'Baseline 2', 'RF Classifier'])\n",
    "ax.grid(True)\n",
    "ax.set_ylabel('Cost / Value')\n",
    "ax.set_title('Value of Models')\n",
    "f.savefig('images/value_cost_models.png', dpi=200, bbox_inches='tight');"
   ]
  },
  {
   "cell_type": "code",
   "execution_count": 39,
   "metadata": {},
   "outputs": [
    {
     "data": {
      "image/png": "[encoded data removed]",
      "text/plain": [
       "<Figure size 432x288 with 1 Axes>"
      ]
     },
     "metadata": {
      "image/png": {
       "height": 277,
       "width": 384
      }
     },
     "output_type": "display_data"
    }
   ],
   "source": [
    "b1_fpr, b1_tpr, b1_roc_th = roc_curve(df_test['target'], df_test['baseline_1_proba'])\n",
    "b2_fpr, b2_tpr, b2_roc_th = roc_curve(df_test['target'], df_test['baseline_2'])\n",
    "rf_fpr, rf_tpr, rf_roc_th = roc_curve(df_test['target'], df_test['rf_cls_proba'])\n",
    "f, ax = plt.subplots()\n",
    "ax.plot(b1_fpr, b1_tpr, 'r-', alpha=0.5, label='Baseline 1 (AUC = %.2f)' % auc(b1_fpr, b1_tpr))\n",
    "ax.plot(b2_fpr, b2_tpr, 'g-', alpha=0.5, label='Baseline 2 (AUC = %.2f)' % auc(b2_fpr, b2_tpr))\n",
    "ax.plot(rf_fpr, rf_tpr, 'b-', alpha=0.5, label='RF Classifier (AUC = %.2f)' % auc(rf_fpr, rf_tpr))\n",
    "ax.grid(True)\n",
    "ax.set_xlabel('False Positive Rate')\n",
    "ax.set_ylabel('True Positive Rate')\n",
    "ax.set_title('ROC Curve')\n",
    "ax.legend()\n",
    "f.savefig('images/roc_auc.png', dpi=200, bbox_inches='tight');"
   ]
  },
  {
   "cell_type": "code",
   "execution_count": 40,
   "metadata": {},
   "outputs": [
    {
     "data": {
      "image/png": "[encoded data removed]",
      "text/plain": [
       "<Figure size 432x288 with 1 Axes>"
      ]
     },
     "metadata": {
      "image/png": {
       "height": 277,
       "width": 391
      }
     },
     "output_type": "display_data"
    }
   ],
   "source": [
    "b1_p, b1_r, b1_pr_th = precision_recall_curve(df_test['target'], df_test['baseline_1_proba'])\n",
    "b1_ap = average_precision_score(df_test['target'], df_test['baseline_1_proba'])\n",
    "b2_p, b2_r, b2_pr_th = precision_recall_curve(df_test['target'], df_test['baseline_2'])\n",
    "b2_ap = average_precision_score(df_test['target'], df_test['baseline_2'])\n",
    "rf_p, rf_r, rf_pr_th = precision_recall_curve(df_test['target'], df_test['rf_cls_proba'])\n",
    "rf_ap = average_precision_score(df_test['target'], df_test['rf_cls_proba'])\n",
    "f, ax = plt.subplots()\n",
    "ax.step(b1_r, b1_p, 'r-', alpha=0.5, label='Baseline 1 (AP = %.2f)' % b1_ap, where='post')\n",
    "ax.step(b2_r, b2_p, 'g-', alpha=0.5, label='Baseline 2 (AP = %.2f)' % b2_ap, where='post')\n",
    "ax.step(rf_r, rf_p, 'b-', alpha=0.5, label='RF Classifier (AP = %.2f)' % rf_ap, where='post')\n",
    "ax.grid(True)\n",
    "ax.set_xlabel('Recall')\n",
    "ax.set_ylabel('Precision')\n",
    "ax.set_title('PR Curve')\n",
    "ax.set_xlim([0, 1])\n",
    "ax.set_ylim([0, 1.1])\n",
    "ax.legend()\n",
    "f.savefig('images/pr_curve.png', dpi=200, bbox_inches='tight');"
   ]
  },
  {
   "cell_type": "code",
   "execution_count": 41,
   "metadata": {},
   "outputs": [
    {
     "data": {
      "image/png": "[encoded data removed]",
      "text/plain": [
       "<Figure size 432x288 with 1 Axes>"
      ]
     },
     "metadata": {
      "image/png": {
       "height": 290,
       "width": 386
      }
     },
     "output_type": "display_data"
    }
   ],
   "source": [
    "malignant_rate = len(df_test[df_test['target'] == 1]) / len(df_test) * 100\n",
    "recalls_to_consider = [0.5, 0.75, 1.0]\n",
    "\n",
    "def find_nearest(array, value):\n",
    "    array = np.asarray(array)\n",
    "    idx = (np.abs(array - value)).argmin()\n",
    "    return array[idx], idx\n",
    "x = []\n",
    "b1_auto = []\n",
    "b2_auto = []\n",
    "rf_auto = []\n",
    "for recall in recalls_to_consider:\n",
    "    x.append(int(recall * 100))\n",
    "    b1_auto.append(malignant_rate * recall / b1_p[find_nearest(b1_r, recall)[1]])\n",
    "    b2_auto.append(malignant_rate * recall / b2_p[find_nearest(b2_r, recall)[1]])\n",
    "    rf_auto.append(malignant_rate * recall / rf_p[find_nearest(rf_r, recall)[1]])\n",
    "\n",
    "f, ax = plt.subplots()\n",
    "index = np.arange(len(x))\n",
    "bar_width = 0.3\n",
    "opacity = 0.5\n",
    "ax.bar(index, b1_auto, bar_width,\n",
    "       alpha=opacity, color='r',\n",
    "       label='Baseline 1')\n",
    "ax.bar(index + bar_width, b2_auto, bar_width,\n",
    "       alpha=opacity, color='g',\n",
    "       label='Baseline 2')\n",
    "ax.bar(index + 2 * bar_width, rf_auto, bar_width,\n",
    "       alpha=opacity, color='b',\n",
    "       label='RF Classifier')\n",
    "ax.set_xticks(index + bar_width)\n",
    "ax.set_xticklabels(x)\n",
    "ax.set_ylim([0, 105])\n",
    "ax.set_yticks(np.arange(0, 101, 10))\n",
    "ax.set_ylabel('% Cases to Review')\n",
    "ax.set_xlabel('% Positive Cases Captured')\n",
    "ax.grid(True)\n",
    "ax.legend()\n",
    "ax.set_title('Automation Plot\\n(Malignant Rate = %.2f%%)' % malignant_rate)\n",
    "f.savefig('images/automation.png', dpi=200, bbox_inches='tight');"
   ]
  }
 ],
 "metadata": {
  "kernelspec": {
   "display_name": "Python 3",
   "language": "python",
   "name": "python3"
  },
  "language_info": {
   "codemirror_mode": {
    "name": "ipython",
    "version": 3
   },
   "file_extension": ".py",
   "mimetype": "text/x-python",
   "name": "python",
   "nbconvert_exporter": "python",
   "pygments_lexer": "ipython3",
   "version": "3.6.5"
  }
 },
 "nbformat": 4,
 "nbformat_minor": 2
}
